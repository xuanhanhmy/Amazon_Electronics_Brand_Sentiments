{
 "cells": [
  {
   "cell_type": "code",
   "execution_count": 1,
   "id": "9008c703",
   "metadata": {},
   "outputs": [],
   "source": [
    "from pymongo import MongoClient\n",
    "import json\n",
    "from bson import json_util\n",
    "import pandas as pd\n",
    "import numpy as np\n",
    "import matplotlib.pyplot as plt\n",
    "plt.style.use(\"ggplot\")\n",
    "import spacy\n",
    "import nltk\n",
    "from gensim.models import Word2Vec, KeyedVectors\n",
    "from sklearn.metrics import accuracy_score,classification_report,confusion_matrix\n",
    "from sklearn.ensemble import RandomForestClassifier\n",
    "from sklearn.decomposition import TruncatedSVD\n",
    "import gzip\n",
    "from pandas.io.json import json_normalize\n",
    "from nltk.tokenize import word_tokenize,sent_tokenize\n",
    "from nltk.tokenize import RegexpTokenizer\n",
    "from nltk.corpus import stopwords\n",
    "from nltk.stem import WordNetLemmatizer\n",
    "from nltk import FreqDist\n",
    "from nltk.sentiment.vader import SentimentIntensityAnalyzer\n",
    "from sklearn.model_selection import train_test_split\n",
    "import xgboost as xgb\n",
    "from nltk.stem import PorterStemmer"
   ]
  },
  {
   "cell_type": "markdown",
   "id": "71ea03bf",
   "metadata": {},
   "source": [
    "### Data Preparation"
   ]
  },
  {
   "cell_type": "code",
   "execution_count": 2,
   "id": "ca3514c2",
   "metadata": {},
   "outputs": [],
   "source": [
    "def parse(path):\n",
    "  g = gzip.open(path, 'rb')\n",
    "  for l in g:\n",
    "    yield eval(l)\n",
    "\n",
    "def getDF(path):\n",
    "  i = 0\n",
    "  df = {}\n",
    "  for d in parse(path):\n",
    "    df[i] = d\n",
    "    i += 1\n",
    "  return pd.DataFrame.from_dict(df, orient='index')\n",
    "\n",
    "meta = getDF('meta_Electronics.json.gz')"
   ]
  },
  {
   "cell_type": "code",
   "execution_count": 3,
   "id": "f42909de",
   "metadata": {},
   "outputs": [
    {
     "data": {
      "text/html": [
       "<div>\n",
       "<style scoped>\n",
       "    .dataframe tbody tr th:only-of-type {\n",
       "        vertical-align: middle;\n",
       "    }\n",
       "\n",
       "    .dataframe tbody tr th {\n",
       "        vertical-align: top;\n",
       "    }\n",
       "\n",
       "    .dataframe thead th {\n",
       "        text-align: right;\n",
       "    }\n",
       "</style>\n",
       "<table border=\"1\" class=\"dataframe\">\n",
       "  <thead>\n",
       "    <tr style=\"text-align: right;\">\n",
       "      <th></th>\n",
       "      <th>asin</th>\n",
       "      <th>imUrl</th>\n",
       "      <th>description</th>\n",
       "      <th>categories</th>\n",
       "      <th>title</th>\n",
       "      <th>price</th>\n",
       "      <th>salesRank</th>\n",
       "      <th>related</th>\n",
       "      <th>brand</th>\n",
       "    </tr>\n",
       "  </thead>\n",
       "  <tbody>\n",
       "    <tr>\n",
       "      <th>0</th>\n",
       "      <td>0132793040</td>\n",
       "      <td>http://ecx.images-amazon.com/images/I/31JIPhp%...</td>\n",
       "      <td>The Kelby Training DVD Mastering Blend Modes i...</td>\n",
       "      <td>[[Electronics, Computers &amp; Accessories, Cables...</td>\n",
       "      <td>Kelby Training DVD: Mastering Blend Modes in A...</td>\n",
       "      <td>NaN</td>\n",
       "      <td>NaN</td>\n",
       "      <td>NaN</td>\n",
       "      <td>NaN</td>\n",
       "    </tr>\n",
       "    <tr>\n",
       "      <th>1</th>\n",
       "      <td>0321732944</td>\n",
       "      <td>http://ecx.images-amazon.com/images/I/31uogm6Y...</td>\n",
       "      <td>NaN</td>\n",
       "      <td>[[Electronics, Computers &amp; Accessories, Cables...</td>\n",
       "      <td>Kelby Training DVD: Adobe Photoshop CS5 Crash ...</td>\n",
       "      <td>NaN</td>\n",
       "      <td>NaN</td>\n",
       "      <td>NaN</td>\n",
       "      <td>NaN</td>\n",
       "    </tr>\n",
       "    <tr>\n",
       "      <th>2</th>\n",
       "      <td>0439886341</td>\n",
       "      <td>http://ecx.images-amazon.com/images/I/51k0qa8f...</td>\n",
       "      <td>Digital Organizer and Messenger</td>\n",
       "      <td>[[Electronics, Computers &amp; Accessories, PDAs, ...</td>\n",
       "      <td>Digital Organizer and Messenger</td>\n",
       "      <td>8.15</td>\n",
       "      <td>{'Electronics': 144944}</td>\n",
       "      <td>{'also_viewed': ['0545016266', 'B009ECM8QY', '...</td>\n",
       "      <td>NaN</td>\n",
       "    </tr>\n",
       "    <tr>\n",
       "      <th>3</th>\n",
       "      <td>0511189877</td>\n",
       "      <td>http://ecx.images-amazon.com/images/I/41HaAhbv...</td>\n",
       "      <td>The CLIKR-5 UR5U-8780L remote control is desig...</td>\n",
       "      <td>[[Electronics, Accessories &amp; Supplies, Audio &amp;...</td>\n",
       "      <td>CLIKR-5 Time Warner Cable Remote Control UR5U-...</td>\n",
       "      <td>23.36</td>\n",
       "      <td>NaN</td>\n",
       "      <td>{'also_viewed': ['B001KC08A4', 'B00KUL8O0W', '...</td>\n",
       "      <td>NaN</td>\n",
       "    </tr>\n",
       "    <tr>\n",
       "      <th>4</th>\n",
       "      <td>0528881469</td>\n",
       "      <td>http://ecx.images-amazon.com/images/I/51FnRkJq...</td>\n",
       "      <td>Like its award-winning predecessor, the Intell...</td>\n",
       "      <td>[[Electronics, GPS &amp; Navigation, Vehicle GPS, ...</td>\n",
       "      <td>Rand McNally 528881469 7-inch Intelliroute TND...</td>\n",
       "      <td>299.99</td>\n",
       "      <td>NaN</td>\n",
       "      <td>{'also_viewed': ['B006ZOI9OY', 'B00C7FKT2A', '...</td>\n",
       "      <td>NaN</td>\n",
       "    </tr>\n",
       "  </tbody>\n",
       "</table>\n",
       "</div>"
      ],
      "text/plain": [
       "         asin                                              imUrl  \\\n",
       "0  0132793040  http://ecx.images-amazon.com/images/I/31JIPhp%...   \n",
       "1  0321732944  http://ecx.images-amazon.com/images/I/31uogm6Y...   \n",
       "2  0439886341  http://ecx.images-amazon.com/images/I/51k0qa8f...   \n",
       "3  0511189877  http://ecx.images-amazon.com/images/I/41HaAhbv...   \n",
       "4  0528881469  http://ecx.images-amazon.com/images/I/51FnRkJq...   \n",
       "\n",
       "                                         description  \\\n",
       "0  The Kelby Training DVD Mastering Blend Modes i...   \n",
       "1                                                NaN   \n",
       "2                    Digital Organizer and Messenger   \n",
       "3  The CLIKR-5 UR5U-8780L remote control is desig...   \n",
       "4  Like its award-winning predecessor, the Intell...   \n",
       "\n",
       "                                          categories  \\\n",
       "0  [[Electronics, Computers & Accessories, Cables...   \n",
       "1  [[Electronics, Computers & Accessories, Cables...   \n",
       "2  [[Electronics, Computers & Accessories, PDAs, ...   \n",
       "3  [[Electronics, Accessories & Supplies, Audio &...   \n",
       "4  [[Electronics, GPS & Navigation, Vehicle GPS, ...   \n",
       "\n",
       "                                               title   price  \\\n",
       "0  Kelby Training DVD: Mastering Blend Modes in A...     NaN   \n",
       "1  Kelby Training DVD: Adobe Photoshop CS5 Crash ...     NaN   \n",
       "2                    Digital Organizer and Messenger    8.15   \n",
       "3  CLIKR-5 Time Warner Cable Remote Control UR5U-...   23.36   \n",
       "4  Rand McNally 528881469 7-inch Intelliroute TND...  299.99   \n",
       "\n",
       "                 salesRank                                            related  \\\n",
       "0                      NaN                                                NaN   \n",
       "1                      NaN                                                NaN   \n",
       "2  {'Electronics': 144944}  {'also_viewed': ['0545016266', 'B009ECM8QY', '...   \n",
       "3                      NaN  {'also_viewed': ['B001KC08A4', 'B00KUL8O0W', '...   \n",
       "4                      NaN  {'also_viewed': ['B006ZOI9OY', 'B00C7FKT2A', '...   \n",
       "\n",
       "  brand  \n",
       "0   NaN  \n",
       "1   NaN  \n",
       "2   NaN  \n",
       "3   NaN  \n",
       "4   NaN  "
      ]
     },
     "execution_count": 3,
     "metadata": {},
     "output_type": "execute_result"
    }
   ],
   "source": [
    "meta.head()"
   ]
  },
  {
   "cell_type": "code",
   "execution_count": 4,
   "id": "f4ea13cf",
   "metadata": {},
   "outputs": [],
   "source": [
    "meta.dropna(subset=['brand'], inplace = True)"
   ]
  },
  {
   "cell_type": "code",
   "execution_count": 5,
   "id": "7564a710",
   "metadata": {},
   "outputs": [
    {
     "data": {
      "text/plain": [
       "asin           0.000000\n",
       "imUrl          0.000000\n",
       "description    0.037725\n",
       "categories     0.000000\n",
       "title          0.000007\n",
       "price          0.011899\n",
       "salesRank      0.674978\n",
       "related        0.090808\n",
       "brand          0.000000\n",
       "dtype: float64"
      ]
     },
     "execution_count": 5,
     "metadata": {},
     "output_type": "execute_result"
    }
   ],
   "source": [
    "meta.isna().sum()/len(meta)"
   ]
  },
  {
   "cell_type": "code",
   "execution_count": 6,
   "id": "4aa4fdc7",
   "metadata": {},
   "outputs": [
    {
     "name": "stdout",
     "output_type": "stream",
     "text": [
      "<class 'pandas.core.frame.DataFrame'>\n",
      "Int64Index: 142532 entries, 6 to 498195\n",
      "Data columns (total 9 columns):\n",
      " #   Column       Non-Null Count   Dtype  \n",
      "---  ------       --------------   -----  \n",
      " 0   asin         142532 non-null  object \n",
      " 1   imUrl        142532 non-null  object \n",
      " 2   description  137155 non-null  object \n",
      " 3   categories   142532 non-null  object \n",
      " 4   title        142531 non-null  object \n",
      " 5   price        140836 non-null  float64\n",
      " 6   salesRank    46326 non-null   object \n",
      " 7   related      129589 non-null  object \n",
      " 8   brand        142532 non-null  object \n",
      "dtypes: float64(1), object(8)\n",
      "memory usage: 10.9+ MB\n"
     ]
    }
   ],
   "source": [
    "meta.info()"
   ]
  },
  {
   "cell_type": "code",
   "execution_count": 7,
   "id": "0346f5e1",
   "metadata": {},
   "outputs": [],
   "source": [
    "client = MongoClient('localhost', 27017) \n",
    "\n",
    "db = client.nguyen83 # replace YourMUID is your MUID\n",
    "\n",
    "db.authenticate('nguyen83','farmerai','ISA414')\n",
    "\n",
    "# create tweets collection\n",
    "electronics = db.electronics"
   ]
  },
  {
   "cell_type": "code",
   "execution_count": 8,
   "id": "05c227d3",
   "metadata": {},
   "outputs": [
    {
     "name": "stderr",
     "output_type": "stream",
     "text": [
      "/opt/anaconda3/lib/python3.7/site-packages/ipykernel_launcher.py:5: FutureWarning: pandas.io.json.json_normalize is deprecated, use pandas.json_normalize instead\n",
      "  \"\"\"\n"
     ]
    },
    {
     "data": {
      "text/html": [
       "<div>\n",
       "<style scoped>\n",
       "    .dataframe tbody tr th:only-of-type {\n",
       "        vertical-align: middle;\n",
       "    }\n",
       "\n",
       "    .dataframe tbody tr th {\n",
       "        vertical-align: top;\n",
       "    }\n",
       "\n",
       "    .dataframe thead th {\n",
       "        text-align: right;\n",
       "    }\n",
       "</style>\n",
       "<table border=\"1\" class=\"dataframe\">\n",
       "  <thead>\n",
       "    <tr style=\"text-align: right;\">\n",
       "      <th></th>\n",
       "      <th>asin</th>\n",
       "      <th>helpful</th>\n",
       "      <th>reviewText</th>\n",
       "      <th>overall</th>\n",
       "    </tr>\n",
       "  </thead>\n",
       "  <tbody>\n",
       "    <tr>\n",
       "      <th>0</th>\n",
       "      <td>0132793040</td>\n",
       "      <td>[1, 1]</td>\n",
       "      <td>Corey Barker does a great job of explaining Bl...</td>\n",
       "      <td>5</td>\n",
       "    </tr>\n",
       "    <tr>\n",
       "      <th>1</th>\n",
       "      <td>0321732944</td>\n",
       "      <td>[0, 0]</td>\n",
       "      <td>While many beginner DVDs try to teach you ever...</td>\n",
       "      <td>5</td>\n",
       "    </tr>\n",
       "    <tr>\n",
       "      <th>2</th>\n",
       "      <td>0439886341</td>\n",
       "      <td>[1, 1]</td>\n",
       "      <td>It never worked. My daughter worked to earn th...</td>\n",
       "      <td>1</td>\n",
       "    </tr>\n",
       "    <tr>\n",
       "      <th>3</th>\n",
       "      <td>0439886341</td>\n",
       "      <td>[1, 1]</td>\n",
       "      <td>Some of the functions did not work properly.  ...</td>\n",
       "      <td>3</td>\n",
       "    </tr>\n",
       "    <tr>\n",
       "      <th>4</th>\n",
       "      <td>0439886341</td>\n",
       "      <td>[4, 4]</td>\n",
       "      <td>Do not waste your money on this thing it is te...</td>\n",
       "      <td>1</td>\n",
       "    </tr>\n",
       "  </tbody>\n",
       "</table>\n",
       "</div>"
      ],
      "text/plain": [
       "         asin helpful                                         reviewText  \\\n",
       "0  0132793040  [1, 1]  Corey Barker does a great job of explaining Bl...   \n",
       "1  0321732944  [0, 0]  While many beginner DVDs try to teach you ever...   \n",
       "2  0439886341  [1, 1]  It never worked. My daughter worked to earn th...   \n",
       "3  0439886341  [1, 1]  Some of the functions did not work properly.  ...   \n",
       "4  0439886341  [4, 4]  Do not waste your money on this thing it is te...   \n",
       "\n",
       "   overall  \n",
       "0        5  \n",
       "1        5  \n",
       "2        1  \n",
       "3        3  \n",
       "4        1  "
      ]
     },
     "execution_count": 8,
     "metadata": {},
     "output_type": "execute_result"
    }
   ],
   "source": [
    "mongo_data = electronics.find({}) # find all reviews\n",
    "\n",
    "# load MongoDB data as JSON data and flatten using json_normalize\n",
    "sanitized = json.loads(json_util.dumps(mongo_data))\n",
    "normalized = json_normalize(sanitized)\n",
    "\n",
    "# create data frame containing four columns and remove duplicates\n",
    "reviews = pd.DataFrame(normalized, columns=['asin', 'helpful', 'reviewText', 'overall'])\n",
    "reviews.head()"
   ]
  },
  {
   "cell_type": "code",
   "execution_count": 9,
   "id": "93f86f90",
   "metadata": {},
   "outputs": [
    {
     "name": "stdout",
     "output_type": "stream",
     "text": [
      "<class 'pandas.core.frame.DataFrame'>\n",
      "RangeIndex: 502 entries, 0 to 501\n",
      "Data columns (total 1 columns):\n",
      " #   Column  Non-Null Count  Dtype \n",
      "---  ------  --------------  ----- \n",
      " 0   0       501 non-null    object\n",
      "dtypes: object(1)\n",
      "memory usage: 4.0+ KB\n"
     ]
    }
   ],
   "source": [
    "# The brands with more than 1000 reviews are saved to this csv file\n",
    "# cond = merge_df['brand'].value_counts() > 1000\n",
    "# subjects = list(cond[cond == True].index)\n",
    "\n",
    "brands = pd.read_csv(\"brands.csv\")\n",
    "brands.info()"
   ]
  },
  {
   "cell_type": "code",
   "execution_count": 10,
   "id": "a52f2efd",
   "metadata": {},
   "outputs": [
    {
     "name": "stdout",
     "output_type": "stream",
     "text": [
      "<class 'pandas.core.frame.DataFrame'>\n",
      "Int64Index: 86468 entries, 6 to 498195\n",
      "Data columns (total 3 columns):\n",
      " #   Column  Non-Null Count  Dtype  \n",
      "---  ------  --------------  -----  \n",
      " 0   asin    86468 non-null  object \n",
      " 1   price   85316 non-null  float64\n",
      " 2   brand   86468 non-null  object \n",
      "dtypes: float64(1), object(2)\n",
      "memory usage: 2.6+ MB\n"
     ]
    }
   ],
   "source": [
    "meta = meta[meta['brand'].isin(brands[\"0\"])][['asin', 'price', 'brand']]\n",
    "meta.info()"
   ]
  },
  {
   "cell_type": "code",
   "execution_count": 11,
   "id": "9a27caf7",
   "metadata": {},
   "outputs": [
    {
     "data": {
      "text/plain": [
       "asin          0.00000\n",
       "helpful       0.00000\n",
       "reviewText    0.00000\n",
       "overall       0.00000\n",
       "price         0.00943\n",
       "brand         0.00000\n",
       "dtype: float64"
      ]
     },
     "execution_count": 11,
     "metadata": {},
     "output_type": "execute_result"
    }
   ],
   "source": [
    "merge_df = reviews.merge(meta, on=\"asin\")\n",
    "merge_df.isna().sum()/len(merge_df)"
   ]
  },
  {
   "cell_type": "code",
   "execution_count": 12,
   "id": "c7673e2c",
   "metadata": {},
   "outputs": [],
   "source": [
    "#Data Cleaning and Imputation\n",
    "\n",
    "merge_df.dropna(subset=['brand'], inplace=True)\n",
    "merge_df['helpful'] = merge_df['helpful'].astype(str)\n",
    "ls = merge_df['helpful'].apply(lambda x: x.split(\",\"))\n",
    "merge_df['helpful_no']  = ls.apply(lambda x : x[0].strip('['))\n",
    "merge_df['helpful_yes'] = ls.apply(lambda x : x[1].strip(']').strip(' '))\n",
    "merge_df[['helpful_no', 'helpful_yes']] = merge_df[['helpful_no', 'helpful_yes']].astype(int)\n",
    "merge_df['target'] = merge_df['overall'].map({1: 0, 2: 0, 3: 0, 4: 1,5: 1})\n",
    "merge_df['reviewText']= merge_df['reviewText'].apply(lambda x: x.lower())\n",
    "merge_df['price_cleaned'] = merge_df.groupby(\"brand\")['price'].transform(lambda x: x.fillna(x.mean()))"
   ]
  },
  {
   "cell_type": "code",
   "execution_count": 13,
   "id": "757a8402",
   "metadata": {},
   "outputs": [
    {
     "data": {
      "text/html": [
       "<div>\n",
       "<style scoped>\n",
       "    .dataframe tbody tr th:only-of-type {\n",
       "        vertical-align: middle;\n",
       "    }\n",
       "\n",
       "    .dataframe tbody tr th {\n",
       "        vertical-align: top;\n",
       "    }\n",
       "\n",
       "    .dataframe thead th {\n",
       "        text-align: right;\n",
       "    }\n",
       "</style>\n",
       "<table border=\"1\" class=\"dataframe\">\n",
       "  <thead>\n",
       "    <tr style=\"text-align: right;\">\n",
       "      <th></th>\n",
       "      <th>asin</th>\n",
       "      <th>helpful</th>\n",
       "      <th>reviewText</th>\n",
       "      <th>overall</th>\n",
       "      <th>price</th>\n",
       "      <th>brand</th>\n",
       "      <th>helpful_no</th>\n",
       "      <th>helpful_yes</th>\n",
       "      <th>target</th>\n",
       "      <th>price_cleaned</th>\n",
       "    </tr>\n",
       "  </thead>\n",
       "  <tbody>\n",
       "    <tr>\n",
       "      <th>0</th>\n",
       "      <td>059400232X</td>\n",
       "      <td>[0, 0]</td>\n",
       "      <td>this cover fits very nice, and looks like rich...</td>\n",
       "      <td>5</td>\n",
       "      <td>4.99</td>\n",
       "      <td>Barnes &amp;amp; Noble</td>\n",
       "      <td>0</td>\n",
       "      <td>0</td>\n",
       "      <td>1</td>\n",
       "      <td>4.99</td>\n",
       "    </tr>\n",
       "    <tr>\n",
       "      <th>1</th>\n",
       "      <td>059400232X</td>\n",
       "      <td>[1, 2]</td>\n",
       "      <td>i bought this for my daughter. i'm the writer ...</td>\n",
       "      <td>5</td>\n",
       "      <td>4.99</td>\n",
       "      <td>Barnes &amp;amp; Noble</td>\n",
       "      <td>1</td>\n",
       "      <td>2</td>\n",
       "      <td>1</td>\n",
       "      <td>4.99</td>\n",
       "    </tr>\n",
       "    <tr>\n",
       "      <th>2</th>\n",
       "      <td>059400232X</td>\n",
       "      <td>[0, 0]</td>\n",
       "      <td>very happy.with.my nook cover.  i want one wit...</td>\n",
       "      <td>5</td>\n",
       "      <td>4.99</td>\n",
       "      <td>Barnes &amp;amp; Noble</td>\n",
       "      <td>0</td>\n",
       "      <td>0</td>\n",
       "      <td>1</td>\n",
       "      <td>4.99</td>\n",
       "    </tr>\n",
       "    <tr>\n",
       "      <th>3</th>\n",
       "      <td>0594012015</td>\n",
       "      <td>[0, 0]</td>\n",
       "      <td>didn't work, had to send back</td>\n",
       "      <td>1</td>\n",
       "      <td>32.10</td>\n",
       "      <td>Barnes &amp;amp; Noble</td>\n",
       "      <td>0</td>\n",
       "      <td>0</td>\n",
       "      <td>0</td>\n",
       "      <td>32.10</td>\n",
       "    </tr>\n",
       "    <tr>\n",
       "      <th>4</th>\n",
       "      <td>0594012015</td>\n",
       "      <td>[0, 0]</td>\n",
       "      <td>just what i needed!</td>\n",
       "      <td>5</td>\n",
       "      <td>32.10</td>\n",
       "      <td>Barnes &amp;amp; Noble</td>\n",
       "      <td>0</td>\n",
       "      <td>0</td>\n",
       "      <td>1</td>\n",
       "      <td>32.10</td>\n",
       "    </tr>\n",
       "  </tbody>\n",
       "</table>\n",
       "</div>"
      ],
      "text/plain": [
       "         asin helpful                                         reviewText  \\\n",
       "0  059400232X  [0, 0]  this cover fits very nice, and looks like rich...   \n",
       "1  059400232X  [1, 2]  i bought this for my daughter. i'm the writer ...   \n",
       "2  059400232X  [0, 0]  very happy.with.my nook cover.  i want one wit...   \n",
       "3  0594012015  [0, 0]                      didn't work, had to send back   \n",
       "4  0594012015  [0, 0]                                just what i needed!   \n",
       "\n",
       "   overall  price               brand  helpful_no  helpful_yes  target  \\\n",
       "0        5   4.99  Barnes &amp; Noble           0            0       1   \n",
       "1        5   4.99  Barnes &amp; Noble           1            2       1   \n",
       "2        5   4.99  Barnes &amp; Noble           0            0       1   \n",
       "3        1  32.10  Barnes &amp; Noble           0            0       0   \n",
       "4        5  32.10  Barnes &amp; Noble           0            0       1   \n",
       "\n",
       "   price_cleaned  \n",
       "0           4.99  \n",
       "1           4.99  \n",
       "2           4.99  \n",
       "3          32.10  \n",
       "4          32.10  "
      ]
     },
     "execution_count": 13,
     "metadata": {},
     "output_type": "execute_result"
    }
   ],
   "source": [
    "merge_df.head()"
   ]
  },
  {
   "cell_type": "code",
   "execution_count": 14,
   "id": "33fc760c",
   "metadata": {},
   "outputs": [
    {
     "data": {
      "text/plain": [
       "asin             0.00000\n",
       "helpful          0.00000\n",
       "reviewText       0.00000\n",
       "overall          0.00000\n",
       "price            0.00943\n",
       "brand            0.00000\n",
       "helpful_no       0.00000\n",
       "helpful_yes      0.00000\n",
       "target           0.00000\n",
       "price_cleaned    0.00000\n",
       "dtype: float64"
      ]
     },
     "execution_count": 14,
     "metadata": {},
     "output_type": "execute_result"
    }
   ],
   "source": [
    "merge_df.isna().sum()/len(merge_df)"
   ]
  },
  {
   "cell_type": "code",
   "execution_count": 15,
   "id": "ea3210fd",
   "metadata": {},
   "outputs": [
    {
     "data": {
      "text/html": [
       "<div>\n",
       "<style scoped>\n",
       "    .dataframe tbody tr th:only-of-type {\n",
       "        vertical-align: middle;\n",
       "    }\n",
       "\n",
       "    .dataframe tbody tr th {\n",
       "        vertical-align: top;\n",
       "    }\n",
       "\n",
       "    .dataframe thead th {\n",
       "        text-align: right;\n",
       "    }\n",
       "</style>\n",
       "<table border=\"1\" class=\"dataframe\">\n",
       "  <thead>\n",
       "    <tr style=\"text-align: right;\">\n",
       "      <th></th>\n",
       "      <th>asin</th>\n",
       "      <th>helpful</th>\n",
       "      <th>reviewText</th>\n",
       "      <th>overall</th>\n",
       "      <th>price</th>\n",
       "      <th>brand</th>\n",
       "      <th>helpful_no</th>\n",
       "      <th>helpful_yes</th>\n",
       "      <th>target</th>\n",
       "      <th>price_cleaned</th>\n",
       "    </tr>\n",
       "  </thead>\n",
       "  <tbody>\n",
       "    <tr>\n",
       "      <th>0</th>\n",
       "      <td>059400232X</td>\n",
       "      <td>[0, 0]</td>\n",
       "      <td>this cover fits very nice, and looks like rich...</td>\n",
       "      <td>5</td>\n",
       "      <td>4.99</td>\n",
       "      <td>Barnes &amp;amp; Noble</td>\n",
       "      <td>0</td>\n",
       "      <td>0</td>\n",
       "      <td>1</td>\n",
       "      <td>4.99</td>\n",
       "    </tr>\n",
       "    <tr>\n",
       "      <th>1</th>\n",
       "      <td>059400232X</td>\n",
       "      <td>[1, 2]</td>\n",
       "      <td>i bought this for my daughter. i'm the writer ...</td>\n",
       "      <td>5</td>\n",
       "      <td>4.99</td>\n",
       "      <td>Barnes &amp;amp; Noble</td>\n",
       "      <td>1</td>\n",
       "      <td>2</td>\n",
       "      <td>1</td>\n",
       "      <td>4.99</td>\n",
       "    </tr>\n",
       "    <tr>\n",
       "      <th>2</th>\n",
       "      <td>059400232X</td>\n",
       "      <td>[0, 0]</td>\n",
       "      <td>very happy.with.my nook cover.  i want one wit...</td>\n",
       "      <td>5</td>\n",
       "      <td>4.99</td>\n",
       "      <td>Barnes &amp;amp; Noble</td>\n",
       "      <td>0</td>\n",
       "      <td>0</td>\n",
       "      <td>1</td>\n",
       "      <td>4.99</td>\n",
       "    </tr>\n",
       "    <tr>\n",
       "      <th>3</th>\n",
       "      <td>0594012015</td>\n",
       "      <td>[0, 0]</td>\n",
       "      <td>didn't work, had to send back</td>\n",
       "      <td>1</td>\n",
       "      <td>32.10</td>\n",
       "      <td>Barnes &amp;amp; Noble</td>\n",
       "      <td>0</td>\n",
       "      <td>0</td>\n",
       "      <td>0</td>\n",
       "      <td>32.10</td>\n",
       "    </tr>\n",
       "    <tr>\n",
       "      <th>4</th>\n",
       "      <td>0594012015</td>\n",
       "      <td>[0, 0]</td>\n",
       "      <td>just what i needed!</td>\n",
       "      <td>5</td>\n",
       "      <td>32.10</td>\n",
       "      <td>Barnes &amp;amp; Noble</td>\n",
       "      <td>0</td>\n",
       "      <td>0</td>\n",
       "      <td>1</td>\n",
       "      <td>32.10</td>\n",
       "    </tr>\n",
       "  </tbody>\n",
       "</table>\n",
       "</div>"
      ],
      "text/plain": [
       "         asin helpful                                         reviewText  \\\n",
       "0  059400232X  [0, 0]  this cover fits very nice, and looks like rich...   \n",
       "1  059400232X  [1, 2]  i bought this for my daughter. i'm the writer ...   \n",
       "2  059400232X  [0, 0]  very happy.with.my nook cover.  i want one wit...   \n",
       "3  0594012015  [0, 0]                      didn't work, had to send back   \n",
       "4  0594012015  [0, 0]                                just what i needed!   \n",
       "\n",
       "   overall  price               brand  helpful_no  helpful_yes  target  \\\n",
       "0        5   4.99  Barnes &amp; Noble           0            0       1   \n",
       "1        5   4.99  Barnes &amp; Noble           1            2       1   \n",
       "2        5   4.99  Barnes &amp; Noble           0            0       1   \n",
       "3        1  32.10  Barnes &amp; Noble           0            0       0   \n",
       "4        5  32.10  Barnes &amp; Noble           0            0       1   \n",
       "\n",
       "   price_cleaned  \n",
       "0           4.99  \n",
       "1           4.99  \n",
       "2           4.99  \n",
       "3          32.10  \n",
       "4          32.10  "
      ]
     },
     "execution_count": 15,
     "metadata": {},
     "output_type": "execute_result"
    }
   ],
   "source": [
    "merge_df.head()"
   ]
  },
  {
   "cell_type": "code",
   "execution_count": 16,
   "id": "21639717",
   "metadata": {},
   "outputs": [],
   "source": [
    "eda = merge_df.copy(deep=True)"
   ]
  },
  {
   "cell_type": "code",
   "execution_count": 17,
   "id": "da6c3c1f",
   "metadata": {},
   "outputs": [],
   "source": [
    "merge_df.drop([\"helpful\", \"overall\", \"price\"], axis = 1, inplace = True)"
   ]
  },
  {
   "cell_type": "code",
   "execution_count": 18,
   "id": "4cbc9b10",
   "metadata": {},
   "outputs": [
    {
     "data": {
      "text/html": [
       "<div>\n",
       "<style scoped>\n",
       "    .dataframe tbody tr th:only-of-type {\n",
       "        vertical-align: middle;\n",
       "    }\n",
       "\n",
       "    .dataframe tbody tr th {\n",
       "        vertical-align: top;\n",
       "    }\n",
       "\n",
       "    .dataframe thead th {\n",
       "        text-align: right;\n",
       "    }\n",
       "</style>\n",
       "<table border=\"1\" class=\"dataframe\">\n",
       "  <thead>\n",
       "    <tr style=\"text-align: right;\">\n",
       "      <th></th>\n",
       "      <th>Unnamed: 0</th>\n",
       "      <th>Unnamed: 0.1</th>\n",
       "      <th>brand</th>\n",
       "      <th>selftext_clean</th>\n",
       "      <th>title_clean</th>\n",
       "      <th>alltext_clean</th>\n",
       "      <th>selftext_pos</th>\n",
       "      <th>selftext_neg</th>\n",
       "      <th>selftext_neu</th>\n",
       "      <th>selftext_com</th>\n",
       "      <th>title_pos</th>\n",
       "      <th>title_neg</th>\n",
       "      <th>title_neu</th>\n",
       "      <th>title_com</th>\n",
       "      <th>alltext_pos</th>\n",
       "      <th>alltext_neg</th>\n",
       "      <th>alltext_neu</th>\n",
       "      <th>alltext_com</th>\n",
       "    </tr>\n",
       "  </thead>\n",
       "  <tbody>\n",
       "    <tr>\n",
       "      <th>0</th>\n",
       "      <td>0</td>\n",
       "      <td>0</td>\n",
       "      <td>Barnes &amp;amp; Noble</td>\n",
       "      <td>NaN</td>\n",
       "      <td>user profil barn amp nobl</td>\n",
       "      <td>user profil barn amp nobl</td>\n",
       "      <td>0.0</td>\n",
       "      <td>0.0</td>\n",
       "      <td>1.0</td>\n",
       "      <td>0.0</td>\n",
       "      <td>0.0</td>\n",
       "      <td>0.000</td>\n",
       "      <td>1.000</td>\n",
       "      <td>0.0000</td>\n",
       "      <td>0.0</td>\n",
       "      <td>0.000</td>\n",
       "      <td>1.000</td>\n",
       "      <td>0.0000</td>\n",
       "    </tr>\n",
       "    <tr>\n",
       "      <th>1</th>\n",
       "      <td>1</td>\n",
       "      <td>1</td>\n",
       "      <td>Barnes &amp;amp; Noble</td>\n",
       "      <td>NaN</td>\n",
       "      <td>mywishlist barbara carr barn amp nobl</td>\n",
       "      <td>mywishlist barbara carr barn amp nobl</td>\n",
       "      <td>0.0</td>\n",
       "      <td>0.0</td>\n",
       "      <td>1.0</td>\n",
       "      <td>0.0</td>\n",
       "      <td>0.0</td>\n",
       "      <td>0.000</td>\n",
       "      <td>1.000</td>\n",
       "      <td>0.0000</td>\n",
       "      <td>0.0</td>\n",
       "      <td>0.000</td>\n",
       "      <td>1.000</td>\n",
       "      <td>0.0000</td>\n",
       "    </tr>\n",
       "    <tr>\n",
       "      <th>2</th>\n",
       "      <td>2</td>\n",
       "      <td>2</td>\n",
       "      <td>Barnes &amp;amp; Noble</td>\n",
       "      <td>NaN</td>\n",
       "      <td>rowenacherri librari barn amp nobl</td>\n",
       "      <td>rowenacherri librari barn amp nobl</td>\n",
       "      <td>0.0</td>\n",
       "      <td>0.0</td>\n",
       "      <td>1.0</td>\n",
       "      <td>0.0</td>\n",
       "      <td>0.0</td>\n",
       "      <td>0.000</td>\n",
       "      <td>1.000</td>\n",
       "      <td>0.0000</td>\n",
       "      <td>0.0</td>\n",
       "      <td>0.000</td>\n",
       "      <td>1.000</td>\n",
       "      <td>0.0000</td>\n",
       "    </tr>\n",
       "    <tr>\n",
       "      <th>3</th>\n",
       "      <td>3</td>\n",
       "      <td>3</td>\n",
       "      <td>Barnes &amp;amp; Noble</td>\n",
       "      <td>delet</td>\n",
       "      <td>coffe barn amp nobl discov charg wifi thru amp...</td>\n",
       "      <td>delet coffe barn amp nobl discov charg wifi th...</td>\n",
       "      <td>0.0</td>\n",
       "      <td>0.0</td>\n",
       "      <td>1.0</td>\n",
       "      <td>0.0</td>\n",
       "      <td>0.0</td>\n",
       "      <td>0.091</td>\n",
       "      <td>0.909</td>\n",
       "      <td>-0.3182</td>\n",
       "      <td>0.0</td>\n",
       "      <td>0.087</td>\n",
       "      <td>0.913</td>\n",
       "      <td>-0.3182</td>\n",
       "    </tr>\n",
       "    <tr>\n",
       "      <th>4</th>\n",
       "      <td>4</td>\n",
       "      <td>4</td>\n",
       "      <td>Barnes &amp;amp; Noble</td>\n",
       "      <td>delet</td>\n",
       "      <td>coffe barn amp nobl discov charg wifi thru amp...</td>\n",
       "      <td>delet coffe barn amp nobl discov charg wifi th...</td>\n",
       "      <td>0.0</td>\n",
       "      <td>0.0</td>\n",
       "      <td>1.0</td>\n",
       "      <td>0.0</td>\n",
       "      <td>0.0</td>\n",
       "      <td>0.091</td>\n",
       "      <td>0.909</td>\n",
       "      <td>-0.3182</td>\n",
       "      <td>0.0</td>\n",
       "      <td>0.087</td>\n",
       "      <td>0.913</td>\n",
       "      <td>-0.3182</td>\n",
       "    </tr>\n",
       "  </tbody>\n",
       "</table>\n",
       "</div>"
      ],
      "text/plain": [
       "   Unnamed: 0  Unnamed: 0.1               brand selftext_clean  \\\n",
       "0           0             0  Barnes &amp; Noble            NaN   \n",
       "1           1             1  Barnes &amp; Noble            NaN   \n",
       "2           2             2  Barnes &amp; Noble            NaN   \n",
       "3           3             3  Barnes &amp; Noble          delet   \n",
       "4           4             4  Barnes &amp; Noble          delet   \n",
       "\n",
       "                                         title_clean  \\\n",
       "0                          user profil barn amp nobl   \n",
       "1              mywishlist barbara carr barn amp nobl   \n",
       "2                 rowenacherri librari barn amp nobl   \n",
       "3  coffe barn amp nobl discov charg wifi thru amp...   \n",
       "4  coffe barn amp nobl discov charg wifi thru amp...   \n",
       "\n",
       "                                       alltext_clean  selftext_pos  \\\n",
       "0                          user profil barn amp nobl           0.0   \n",
       "1              mywishlist barbara carr barn amp nobl           0.0   \n",
       "2                 rowenacherri librari barn amp nobl           0.0   \n",
       "3  delet coffe barn amp nobl discov charg wifi th...           0.0   \n",
       "4  delet coffe barn amp nobl discov charg wifi th...           0.0   \n",
       "\n",
       "   selftext_neg  selftext_neu  selftext_com  title_pos  title_neg  title_neu  \\\n",
       "0           0.0           1.0           0.0        0.0      0.000      1.000   \n",
       "1           0.0           1.0           0.0        0.0      0.000      1.000   \n",
       "2           0.0           1.0           0.0        0.0      0.000      1.000   \n",
       "3           0.0           1.0           0.0        0.0      0.091      0.909   \n",
       "4           0.0           1.0           0.0        0.0      0.091      0.909   \n",
       "\n",
       "   title_com  alltext_pos  alltext_neg  alltext_neu  alltext_com  \n",
       "0     0.0000          0.0        0.000        1.000       0.0000  \n",
       "1     0.0000          0.0        0.000        1.000       0.0000  \n",
       "2     0.0000          0.0        0.000        1.000       0.0000  \n",
       "3    -0.3182          0.0        0.087        0.913      -0.3182  \n",
       "4    -0.3182          0.0        0.087        0.913      -0.3182  "
      ]
     },
     "execution_count": 18,
     "metadata": {},
     "output_type": "execute_result"
    }
   ],
   "source": [
    "reddit = pd.read_csv(\"pushshift_clean_vader.csv\")\n",
    "reddit.head()"
   ]
  },
  {
   "cell_type": "code",
   "execution_count": 19,
   "id": "0152e01a",
   "metadata": {},
   "outputs": [
    {
     "data": {
      "text/html": [
       "<div>\n",
       "<style scoped>\n",
       "    .dataframe tbody tr th:only-of-type {\n",
       "        vertical-align: middle;\n",
       "    }\n",
       "\n",
       "    .dataframe tbody tr th {\n",
       "        vertical-align: top;\n",
       "    }\n",
       "\n",
       "    .dataframe thead th {\n",
       "        text-align: right;\n",
       "    }\n",
       "</style>\n",
       "<table border=\"1\" class=\"dataframe\">\n",
       "  <thead>\n",
       "    <tr style=\"text-align: right;\">\n",
       "      <th></th>\n",
       "      <th>brand</th>\n",
       "      <th>title_com</th>\n",
       "      <th>alltext_com</th>\n",
       "    </tr>\n",
       "  </thead>\n",
       "  <tbody>\n",
       "    <tr>\n",
       "      <th>0</th>\n",
       "      <td>3M</td>\n",
       "      <td>-0.029378</td>\n",
       "      <td>-0.029378</td>\n",
       "    </tr>\n",
       "    <tr>\n",
       "      <th>1</th>\n",
       "      <td>ADATA</td>\n",
       "      <td>0.079768</td>\n",
       "      <td>0.420384</td>\n",
       "    </tr>\n",
       "    <tr>\n",
       "      <th>2</th>\n",
       "      <td>AGPtek</td>\n",
       "      <td>0.102721</td>\n",
       "      <td>0.333586</td>\n",
       "    </tr>\n",
       "    <tr>\n",
       "      <th>3</th>\n",
       "      <td>AKG</td>\n",
       "      <td>0.133016</td>\n",
       "      <td>0.304494</td>\n",
       "    </tr>\n",
       "    <tr>\n",
       "      <th>4</th>\n",
       "      <td>AMD</td>\n",
       "      <td>-0.031580</td>\n",
       "      <td>-0.031580</td>\n",
       "    </tr>\n",
       "  </tbody>\n",
       "</table>\n",
       "</div>"
      ],
      "text/plain": [
       "    brand  title_com  alltext_com\n",
       "0      3M  -0.029378    -0.029378\n",
       "1   ADATA   0.079768     0.420384\n",
       "2  AGPtek   0.102721     0.333586\n",
       "3     AKG   0.133016     0.304494\n",
       "4     AMD  -0.031580    -0.031580"
      ]
     },
     "execution_count": 19,
     "metadata": {},
     "output_type": "execute_result"
    }
   ],
   "source": [
    "reddit_selected = reddit.groupby(\"brand\")[['title_com', 'alltext_com']].mean()\n",
    "reddit_selected.reset_index(inplace=True)\n",
    "reddit_selected.head()"
   ]
  },
  {
   "cell_type": "code",
   "execution_count": 20,
   "id": "2c946681",
   "metadata": {},
   "outputs": [
    {
     "data": {
      "text/plain": [
       "asin             0.0\n",
       "reviewText       0.0\n",
       "brand            0.0\n",
       "helpful_no       0.0\n",
       "helpful_yes      0.0\n",
       "target           0.0\n",
       "price_cleaned    0.0\n",
       "title_com        0.0\n",
       "alltext_com      0.0\n",
       "dtype: float64"
      ]
     },
     "execution_count": 20,
     "metadata": {},
     "output_type": "execute_result"
    }
   ],
   "source": [
    "merge_df = merge_df.merge(reddit_selected, on=\"brand\")\n",
    "merge_df.isna().sum()/len(merge_df)"
   ]
  },
  {
   "cell_type": "code",
   "execution_count": 21,
   "id": "41b15b95",
   "metadata": {},
   "outputs": [],
   "source": [
    "merge_df.drop(['asin'], axis = 1, inplace = True)"
   ]
  },
  {
   "cell_type": "code",
   "execution_count": 22,
   "id": "d09eeb1e",
   "metadata": {},
   "outputs": [],
   "source": [
    "# merge_df.to_csv(\"cleaned_data.csv\")"
   ]
  },
  {
   "cell_type": "code",
   "execution_count": 23,
   "id": "bf67fde3",
   "metadata": {},
   "outputs": [
    {
     "data": {
      "text/html": [
       "<div>\n",
       "<style scoped>\n",
       "    .dataframe tbody tr th:only-of-type {\n",
       "        vertical-align: middle;\n",
       "    }\n",
       "\n",
       "    .dataframe tbody tr th {\n",
       "        vertical-align: top;\n",
       "    }\n",
       "\n",
       "    .dataframe thead th {\n",
       "        text-align: right;\n",
       "    }\n",
       "</style>\n",
       "<table border=\"1\" class=\"dataframe\">\n",
       "  <thead>\n",
       "    <tr style=\"text-align: right;\">\n",
       "      <th></th>\n",
       "      <th>reviewText</th>\n",
       "      <th>brand</th>\n",
       "      <th>helpful_no</th>\n",
       "      <th>helpful_yes</th>\n",
       "      <th>target</th>\n",
       "      <th>price_cleaned</th>\n",
       "      <th>title_com</th>\n",
       "      <th>alltext_com</th>\n",
       "    </tr>\n",
       "  </thead>\n",
       "  <tbody>\n",
       "    <tr>\n",
       "      <th>0</th>\n",
       "      <td>this cover fits very nice, and looks like rich...</td>\n",
       "      <td>Barnes &amp;amp; Noble</td>\n",
       "      <td>0</td>\n",
       "      <td>0</td>\n",
       "      <td>1</td>\n",
       "      <td>4.99</td>\n",
       "      <td>0.013594</td>\n",
       "      <td>0.013594</td>\n",
       "    </tr>\n",
       "    <tr>\n",
       "      <th>1</th>\n",
       "      <td>i bought this for my daughter. i'm the writer ...</td>\n",
       "      <td>Barnes &amp;amp; Noble</td>\n",
       "      <td>1</td>\n",
       "      <td>2</td>\n",
       "      <td>1</td>\n",
       "      <td>4.99</td>\n",
       "      <td>0.013594</td>\n",
       "      <td>0.013594</td>\n",
       "    </tr>\n",
       "    <tr>\n",
       "      <th>2</th>\n",
       "      <td>very happy.with.my nook cover.  i want one wit...</td>\n",
       "      <td>Barnes &amp;amp; Noble</td>\n",
       "      <td>0</td>\n",
       "      <td>0</td>\n",
       "      <td>1</td>\n",
       "      <td>4.99</td>\n",
       "      <td>0.013594</td>\n",
       "      <td>0.013594</td>\n",
       "    </tr>\n",
       "    <tr>\n",
       "      <th>3</th>\n",
       "      <td>didn't work, had to send back</td>\n",
       "      <td>Barnes &amp;amp; Noble</td>\n",
       "      <td>0</td>\n",
       "      <td>0</td>\n",
       "      <td>0</td>\n",
       "      <td>32.10</td>\n",
       "      <td>0.013594</td>\n",
       "      <td>0.013594</td>\n",
       "    </tr>\n",
       "    <tr>\n",
       "      <th>4</th>\n",
       "      <td>just what i needed!</td>\n",
       "      <td>Barnes &amp;amp; Noble</td>\n",
       "      <td>0</td>\n",
       "      <td>0</td>\n",
       "      <td>1</td>\n",
       "      <td>32.10</td>\n",
       "      <td>0.013594</td>\n",
       "      <td>0.013594</td>\n",
       "    </tr>\n",
       "  </tbody>\n",
       "</table>\n",
       "</div>"
      ],
      "text/plain": [
       "                                          reviewText               brand  \\\n",
       "0  this cover fits very nice, and looks like rich...  Barnes &amp; Noble   \n",
       "1  i bought this for my daughter. i'm the writer ...  Barnes &amp; Noble   \n",
       "2  very happy.with.my nook cover.  i want one wit...  Barnes &amp; Noble   \n",
       "3                      didn't work, had to send back  Barnes &amp; Noble   \n",
       "4                                just what i needed!  Barnes &amp; Noble   \n",
       "\n",
       "   helpful_no  helpful_yes  target  price_cleaned  title_com  alltext_com  \n",
       "0           0            0       1           4.99   0.013594     0.013594  \n",
       "1           1            2       1           4.99   0.013594     0.013594  \n",
       "2           0            0       1           4.99   0.013594     0.013594  \n",
       "3           0            0       0          32.10   0.013594     0.013594  \n",
       "4           0            0       1          32.10   0.013594     0.013594  "
      ]
     },
     "execution_count": 23,
     "metadata": {},
     "output_type": "execute_result"
    }
   ],
   "source": [
    "merge_df.head()"
   ]
  },
  {
   "cell_type": "markdown",
   "id": "27bc4aea",
   "metadata": {},
   "source": [
    "### Explanatory Data Analysis"
   ]
  },
  {
   "cell_type": "code",
   "execution_count": 24,
   "id": "5b9cb69f",
   "metadata": {},
   "outputs": [
    {
     "data": {
      "application/vnd.jupyter.widget-view+json": {
       "model_id": "5f05270bdac8400aadf51d24ad3d4ab5",
       "version_major": 2,
       "version_minor": 0
      },
      "text/plain": [
       "Summarize dataset:   0%|          | 0/24 [00:00<?, ?it/s]"
      ]
     },
     "metadata": {},
     "output_type": "display_data"
    },
    {
     "name": "stderr",
     "output_type": "stream",
     "text": [
      "/opt/anaconda3/lib/python3.7/site-packages/scipy/stats/stats.py:4594: RuntimeWarning: overflow encountered in long_scalars\n",
      "  (2 * xtie * ytie) / m + x0 * y0 / (9 * m * (size - 2)))\n"
     ]
    },
    {
     "data": {
      "application/vnd.jupyter.widget-view+json": {
       "model_id": "07417456c97c4c28ab8556d737c42fc3",
       "version_major": 2,
       "version_minor": 0
      },
      "text/plain": [
       "Generate report structure:   0%|          | 0/1 [00:00<?, ?it/s]"
      ]
     },
     "metadata": {},
     "output_type": "display_data"
    },
    {
     "data": {
      "application/vnd.jupyter.widget-view+json": {
       "model_id": "a26395815e584bc1a69c877a292255b5",
       "version_major": 2,
       "version_minor": 0
      },
      "text/plain": [
       "Render HTML:   0%|          | 0/1 [00:00<?, ?it/s]"
      ]
     },
     "metadata": {},
     "output_type": "display_data"
    },
    {
     "data": {
      "application/vnd.jupyter.widget-view+json": {
       "model_id": "3b5aa31ab4d04700ba411b3d57610f93",
       "version_major": 2,
       "version_minor": 0
      },
      "text/plain": [
       "Export report to file:   0%|          | 0/1 [00:00<?, ?it/s]"
      ]
     },
     "metadata": {},
     "output_type": "display_data"
    }
   ],
   "source": [
    "from pandas_profiling import ProfileReport\n",
    "profile = ProfileReport(eda, title=\"Pandas Profiling Report\")\n",
    "profile.to_file(\"your_report.html\")"
   ]
  },
  {
   "cell_type": "code",
   "execution_count": 25,
   "id": "d2d73a73",
   "metadata": {},
   "outputs": [
    {
     "data": {
      "text/plain": [
       "pandas.core.series.Series"
      ]
     },
     "execution_count": 25,
     "metadata": {},
     "output_type": "execute_result"
    }
   ],
   "source": [
    "target_counts = merge_df.target.value_counts()\n",
    "type(target_counts)"
   ]
  },
  {
   "cell_type": "code",
   "execution_count": 26,
   "id": "746f6004",
   "metadata": {},
   "outputs": [
    {
     "name": "stdout",
     "output_type": "stream",
     "text": [
      "<class 'pandas.core.frame.DataFrame'>\n",
      "Int64Index: 3038135 entries, 0 to 3038134\n",
      "Data columns (total 8 columns):\n",
      " #   Column         Dtype  \n",
      "---  ------         -----  \n",
      " 0   reviewText     object \n",
      " 1   brand          object \n",
      " 2   helpful_no     int64  \n",
      " 3   helpful_yes    int64  \n",
      " 4   target         object \n",
      " 5   price_cleaned  float64\n",
      " 6   title_com      float64\n",
      " 7   alltext_com    float64\n",
      "dtypes: float64(3), int64(2), object(3)\n",
      "memory usage: 208.6+ MB\n"
     ]
    }
   ],
   "source": [
    "merge_df.target = merge_df.target.astype(str)\n",
    "merge_df.info()"
   ]
  },
  {
   "cell_type": "code",
   "execution_count": 27,
   "id": "329d9a9c",
   "metadata": {},
   "outputs": [
    {
     "data": {
      "image/png": "[encoded data removed]",
      "text/plain": [
       "<Figure size 1080x720 with 1 Axes>"
      ]
     },
     "metadata": {},
     "output_type": "display_data"
    }
   ],
   "source": [
    "\n",
    "fig = plt.figure(figsize = (15, 10))\n",
    " \n",
    "# creating the bar plot\n",
    "plt.bar(x=target_counts.index, height=target_counts.values, color ='maroon',\n",
    "        width = 0.4)\n",
    " \n",
    "plt.xlabel(\"Target Class\")\n",
    "plt.ylabel(\"No. of reviews\")\n",
    "plt.title(\"Number of 0(negative) vs 1(positive) reviews\")\n",
    "plt.savefig(\"Class_Imbalance.jpg\")\n",
    "plt.show()"
   ]
  },
  {
   "cell_type": "code",
   "execution_count": 30,
   "id": "fad0cc87",
   "metadata": {},
   "outputs": [
    {
     "name": "stdout",
     "output_type": "stream",
     "text": [
      "<class 'pandas.core.frame.DataFrame'>\n",
      "Int64Index: 3038135 entries, 0 to 3038134\n",
      "Data columns (total 8 columns):\n",
      " #   Column         Dtype  \n",
      "---  ------         -----  \n",
      " 0   reviewText     object \n",
      " 1   brand          object \n",
      " 2   helpful_no     int64  \n",
      " 3   helpful_yes    int64  \n",
      " 4   target         object \n",
      " 5   price_cleaned  float64\n",
      " 6   title_com      float64\n",
      " 7   alltext_com    float64\n",
      "dtypes: float64(3), int64(2), object(3)\n",
      "memory usage: 208.6+ MB\n"
     ]
    }
   ],
   "source": [
    "merge_df.info()"
   ]
  }
 ],
 "metadata": {
  "kernelspec": {
   "display_name": "Python 3",
   "language": "python",
   "name": "python3"
  },
  "language_info": {
   "codemirror_mode": {
    "name": "ipython",
    "version": 3
   },
   "file_extension": ".py",
   "mimetype": "text/x-python",
   "name": "python",
   "nbconvert_exporter": "python",
   "pygments_lexer": "ipython3",
   "version": "3.7.3"
  }
 },
 "nbformat": 4,
 "nbformat_minor": 5
}
