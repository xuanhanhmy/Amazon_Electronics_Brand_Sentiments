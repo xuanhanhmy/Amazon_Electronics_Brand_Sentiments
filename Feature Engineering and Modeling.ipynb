{
 "cells": [
  {
   "cell_type": "markdown",
   "metadata": {},
   "source": [
    "# Feature Engineering and Modeling\n",
    "\n",
    "Note: The following code and document are partly adapted from Dr.Shan's Python Clinics code\n"
   ]
  },
  {
   "cell_type": "code",
   "execution_count": 1,
   "metadata": {},
   "outputs": [],
   "source": [
    "#Loading necessary libraries\n",
    "import nltk\n",
    "import spacy\n",
    "from pymongo import MongoClient\n",
    "import json\n",
    "from bson import json_util\n",
    "import pandas as pd\n",
    "import numpy as np\n",
    "import matplotlib.pyplot as plt\n",
    "plt.style.use(\"ggplot\")\n",
    "import spacy\n",
    "import nltk\n",
    "from gensim.models import Word2Vec, KeyedVectors\n",
    "from sklearn.metrics import accuracy_score,classification_report,confusion_matrix, roc_curve\n",
    "from sklearn.ensemble import RandomForestClassifier\n",
    "from sklearn.decomposition import TruncatedSVD\n",
    "import gzip\n",
    "from pandas.io.json import json_normalize\n",
    "from nltk.tokenize import word_tokenize,sent_tokenize\n",
    "from nltk.tokenize import RegexpTokenizer\n",
    "from nltk.corpus import stopwords\n",
    "from nltk.stem import WordNetLemmatizer\n",
    "from nltk import FreqDist\n",
    "from nltk.sentiment.vader import SentimentIntensityAnalyzer\n",
    "from sklearn.model_selection import train_test_split\n",
    "from xgboost import XGBClassifier\n",
    "from nltk.stem import PorterStemmer\n",
    "from sklearn.cluster import KMeans\n",
    "from sklearn.feature_extraction.text import TfidfVectorizer"
   ]
  },
  {
   "cell_type": "code",
   "execution_count": 30,
   "metadata": {},
   "outputs": [],
   "source": [
    "df = pd.read_csv(\"cleaned_data.csv\", sep=',')\n",
    "df = df.sample(frac=0.05, random_state=1).reset_index()"
   ]
  },
  {
   "cell_type": "code",
   "execution_count": 31,
   "metadata": {
    "scrolled": true
   },
   "outputs": [
    {
     "data": {
      "text/html": [
       "<div>\n",
       "<style scoped>\n",
       "    .dataframe tbody tr th:only-of-type {\n",
       "        vertical-align: middle;\n",
       "    }\n",
       "\n",
       "    .dataframe tbody tr th {\n",
       "        vertical-align: top;\n",
       "    }\n",
       "\n",
       "    .dataframe thead th {\n",
       "        text-align: right;\n",
       "    }\n",
       "</style>\n",
       "<table border=\"1\" class=\"dataframe\">\n",
       "  <thead>\n",
       "    <tr style=\"text-align: right;\">\n",
       "      <th></th>\n",
       "      <th>index</th>\n",
       "      <th>Unnamed: 0</th>\n",
       "      <th>reviewText</th>\n",
       "      <th>brand</th>\n",
       "      <th>helpful_no</th>\n",
       "      <th>helpful_yes</th>\n",
       "      <th>target</th>\n",
       "      <th>price_cleaned</th>\n",
       "      <th>title_com</th>\n",
       "      <th>alltext_com</th>\n",
       "    </tr>\n",
       "  </thead>\n",
       "  <tbody>\n",
       "    <tr>\n",
       "      <th>0</th>\n",
       "      <td>2745836</td>\n",
       "      <td>2745836</td>\n",
       "      <td>great when it works. if it loses connection co...</td>\n",
       "      <td>Edimax</td>\n",
       "      <td>0</td>\n",
       "      <td>0</td>\n",
       "      <td>0</td>\n",
       "      <td>9.55</td>\n",
       "      <td>0.132049</td>\n",
       "      <td>0.425618</td>\n",
       "    </tr>\n",
       "    <tr>\n",
       "      <th>1</th>\n",
       "      <td>2372951</td>\n",
       "      <td>2372951</td>\n",
       "      <td>this tablet exceeded my expectations in terms ...</td>\n",
       "      <td>Asus</td>\n",
       "      <td>3</td>\n",
       "      <td>5</td>\n",
       "      <td>1</td>\n",
       "      <td>178.99</td>\n",
       "      <td>0.034178</td>\n",
       "      <td>0.034178</td>\n",
       "    </tr>\n",
       "    <tr>\n",
       "      <th>2</th>\n",
       "      <td>2475283</td>\n",
       "      <td>2475283</td>\n",
       "      <td>the replacement did do the job. however, the &amp;...</td>\n",
       "      <td>NG</td>\n",
       "      <td>1</td>\n",
       "      <td>1</td>\n",
       "      <td>0</td>\n",
       "      <td>17.35</td>\n",
       "      <td>0.027854</td>\n",
       "      <td>0.027854</td>\n",
       "    </tr>\n",
       "    <tr>\n",
       "      <th>3</th>\n",
       "      <td>1935443</td>\n",
       "      <td>1935443</td>\n",
       "      <td>i have five internal and external hard drives ...</td>\n",
       "      <td>Vantec</td>\n",
       "      <td>0</td>\n",
       "      <td>0</td>\n",
       "      <td>1</td>\n",
       "      <td>18.99</td>\n",
       "      <td>0.059556</td>\n",
       "      <td>0.366812</td>\n",
       "    </tr>\n",
       "    <tr>\n",
       "      <th>4</th>\n",
       "      <td>2239297</td>\n",
       "      <td>2239297</td>\n",
       "      <td>this is exactly what i needed for a yagi anten...</td>\n",
       "      <td>TP-LINK</td>\n",
       "      <td>2</td>\n",
       "      <td>2</td>\n",
       "      <td>1</td>\n",
       "      <td>13.75</td>\n",
       "      <td>0.041198</td>\n",
       "      <td>0.472550</td>\n",
       "    </tr>\n",
       "  </tbody>\n",
       "</table>\n",
       "</div>"
      ],
      "text/plain": [
       "     index  Unnamed: 0                                         reviewText  \\\n",
       "0  2745836     2745836  great when it works. if it loses connection co...   \n",
       "1  2372951     2372951  this tablet exceeded my expectations in terms ...   \n",
       "2  2475283     2475283  the replacement did do the job. however, the &...   \n",
       "3  1935443     1935443  i have five internal and external hard drives ...   \n",
       "4  2239297     2239297  this is exactly what i needed for a yagi anten...   \n",
       "\n",
       "     brand  helpful_no  helpful_yes target  price_cleaned  title_com  \\\n",
       "0   Edimax           0            0      0           9.55   0.132049   \n",
       "1     Asus           3            5      1         178.99   0.034178   \n",
       "2       NG           1            1      0          17.35   0.027854   \n",
       "3   Vantec           0            0      1          18.99   0.059556   \n",
       "4  TP-LINK           2            2      1          13.75   0.041198   \n",
       "\n",
       "   alltext_com  \n",
       "0     0.425618  \n",
       "1     0.034178  \n",
       "2     0.027854  \n",
       "3     0.366812  \n",
       "4     0.472550  "
      ]
     },
     "execution_count": 31,
     "metadata": {},
     "output_type": "execute_result"
    }
   ],
   "source": [
    "df.head()"
   ]
  },
  {
   "cell_type": "code",
   "execution_count": null,
   "metadata": {},
   "outputs": [],
   "source": [
    "corpus_cleaned1 = []\n",
    "nlp = spacy.load(\"en_core_web_sm\")\n",
    "for text in df['reviewText']:\n",
    "    # Seperate text into individual words\n",
    "    tokens = word_tokenize(str(text))\n",
    "\n",
    "    # Remove the punctuations and numbers\n",
    "    tokens = [word for word in tokens if word.isalpha()]\n",
    "\n",
    "    # Remove stopword\n",
    "    tokens = [word for word in tokens if not word in stopwords.words(\"english\")]\n",
    "\n",
    "    # Stem the tokens\n",
    "    ps = PorterStemmer()\n",
    "    tokens = [ps.stem(w) for w in tokens]\n",
    "\n",
    "    text_cleaned = \" \".join(tokens)\n",
    "\n",
    "    corpus_cleaned1.append(text_cleaned)\n",
    "    \n",
    "df = df.assign(reviewTokens = corpus_cleaned1)"
   ]
  },
  {
   "cell_type": "markdown",
   "id": "69f4727f",
   "metadata": {},
   "source": [
    "### Sentiment Analysis with VADER"
   ]
  },
  {
   "cell_type": "code",
   "execution_count": 40,
   "id": "60216116",
   "metadata": {},
   "outputs": [],
   "source": [
    "# initiate an analyzer\n",
    "def sentimentScores(df, corpus):\n",
    "    sia = SentimentIntensityAnalyzer()\n",
    "\n",
    "    comp = []\n",
    "\n",
    "    # iterate through each sentence in corpus\n",
    "    for sentence in corpus:\n",
    "        # analyze the sentiment. ss is a dictionary\n",
    "        ss = sia.polarity_scores(sentence)\n",
    "\n",
    "        # output each sentiment score (neg, neu, pos, compound) in ss\n",
    "        comp.append(ss['compound'])\n",
    "    \n",
    "    df_new = df.assign(reviews_vader_comp = comp)\n",
    "    return df_new"
   ]
  },
  {
   "cell_type": "code",
   "execution_count": 41,
   "id": "25042eb7",
   "metadata": {},
   "outputs": [],
   "source": [
    "brand_reviews = sentimentScores(df, df['reviewTokens'])"
   ]
  },
  {
   "cell_type": "code",
   "execution_count": 42,
   "metadata": {},
   "outputs": [
    {
     "data": {
      "text/html": [
       "<div>\n",
       "<style scoped>\n",
       "    .dataframe tbody tr th:only-of-type {\n",
       "        vertical-align: middle;\n",
       "    }\n",
       "\n",
       "    .dataframe tbody tr th {\n",
       "        vertical-align: top;\n",
       "    }\n",
       "\n",
       "    .dataframe thead th {\n",
       "        text-align: right;\n",
       "    }\n",
       "</style>\n",
       "<table border=\"1\" class=\"dataframe\">\n",
       "  <thead>\n",
       "    <tr style=\"text-align: right;\">\n",
       "      <th></th>\n",
       "      <th>index</th>\n",
       "      <th>Unnamed: 0</th>\n",
       "      <th>reviewText</th>\n",
       "      <th>helpful_no</th>\n",
       "      <th>helpful_yes</th>\n",
       "      <th>target</th>\n",
       "      <th>price_cleaned</th>\n",
       "      <th>title_com</th>\n",
       "      <th>alltext_com</th>\n",
       "      <th>reviewTokens</th>\n",
       "      <th>reviews_vader_comp</th>\n",
       "    </tr>\n",
       "  </thead>\n",
       "  <tbody>\n",
       "    <tr>\n",
       "      <th>0</th>\n",
       "      <td>2745836</td>\n",
       "      <td>2745836</td>\n",
       "      <td>great when it works. if it loses connection co...</td>\n",
       "      <td>0</td>\n",
       "      <td>0</td>\n",
       "      <td>0</td>\n",
       "      <td>9.55</td>\n",
       "      <td>0.132049</td>\n",
       "      <td>0.425618</td>\n",
       "      <td>great work lose connect constantli connect sta...</td>\n",
       "      <td>-0.0772</td>\n",
       "    </tr>\n",
       "    <tr>\n",
       "      <th>1</th>\n",
       "      <td>2372951</td>\n",
       "      <td>2372951</td>\n",
       "      <td>this tablet exceeded my expectations in terms ...</td>\n",
       "      <td>3</td>\n",
       "      <td>5</td>\n",
       "      <td>1</td>\n",
       "      <td>178.99</td>\n",
       "      <td>0.034178</td>\n",
       "      <td>0.034178</td>\n",
       "      <td>tablet exceed expect term use endless possibl ...</td>\n",
       "      <td>-0.2023</td>\n",
       "    </tr>\n",
       "    <tr>\n",
       "      <th>2</th>\n",
       "      <td>2475283</td>\n",
       "      <td>2475283</td>\n",
       "      <td>the replacement did do the job. however, the &amp;...</td>\n",
       "      <td>1</td>\n",
       "      <td>1</td>\n",
       "      <td>0</td>\n",
       "      <td>17.35</td>\n",
       "      <td>0.027854</td>\n",
       "      <td>0.027854</td>\n",
       "      <td>replac job howev unexpect way actual fit batte...</td>\n",
       "      <td>0.6621</td>\n",
       "    </tr>\n",
       "    <tr>\n",
       "      <th>3</th>\n",
       "      <td>1935443</td>\n",
       "      <td>1935443</td>\n",
       "      <td>i have five internal and external hard drives ...</td>\n",
       "      <td>0</td>\n",
       "      <td>0</td>\n",
       "      <td>1</td>\n",
       "      <td>18.99</td>\n",
       "      <td>0.059556</td>\n",
       "      <td>0.366812</td>\n",
       "      <td>five intern extern hard drive want test devic ...</td>\n",
       "      <td>-0.1280</td>\n",
       "    </tr>\n",
       "    <tr>\n",
       "      <th>4</th>\n",
       "      <td>2239297</td>\n",
       "      <td>2239297</td>\n",
       "      <td>this is exactly what i needed for a yagi anten...</td>\n",
       "      <td>2</td>\n",
       "      <td>2</td>\n",
       "      <td>1</td>\n",
       "      <td>13.75</td>\n",
       "      <td>0.041198</td>\n",
       "      <td>0.472550</td>\n",
       "      <td>exactli need yagi antenna amplifi attach anten...</td>\n",
       "      <td>0.1857</td>\n",
       "    </tr>\n",
       "  </tbody>\n",
       "</table>\n",
       "</div>"
      ],
      "text/plain": [
       "     index  Unnamed: 0                                         reviewText  \\\n",
       "0  2745836     2745836  great when it works. if it loses connection co...   \n",
       "1  2372951     2372951  this tablet exceeded my expectations in terms ...   \n",
       "2  2475283     2475283  the replacement did do the job. however, the &...   \n",
       "3  1935443     1935443  i have five internal and external hard drives ...   \n",
       "4  2239297     2239297  this is exactly what i needed for a yagi anten...   \n",
       "\n",
       "   helpful_no  helpful_yes  target  price_cleaned  title_com  alltext_com  \\\n",
       "0           0            0       0           9.55   0.132049     0.425618   \n",
       "1           3            5       1         178.99   0.034178     0.034178   \n",
       "2           1            1       0          17.35   0.027854     0.027854   \n",
       "3           0            0       1          18.99   0.059556     0.366812   \n",
       "4           2            2       1          13.75   0.041198     0.472550   \n",
       "\n",
       "                                        reviewTokens  reviews_vader_comp  \n",
       "0  great work lose connect constantli connect sta...             -0.0772  \n",
       "1  tablet exceed expect term use endless possibl ...             -0.2023  \n",
       "2  replac job howev unexpect way actual fit batte...              0.6621  \n",
       "3  five intern extern hard drive want test devic ...             -0.1280  \n",
       "4  exactli need yagi antenna amplifi attach anten...              0.1857  "
      ]
     },
     "execution_count": 42,
     "metadata": {},
     "output_type": "execute_result"
    }
   ],
   "source": [
    "brand_reviews.head()"
   ]
  },
  {
   "cell_type": "markdown",
   "id": "ab915122",
   "metadata": {},
   "source": [
    "### K-Means Clustering with Word2Vec Model\n"
   ]
  },
  {
   "cell_type": "markdown",
   "id": "9b7f892a",
   "metadata": {},
   "source": [
    "#### Word2Vec Model"
   ]
  },
  {
   "cell_type": "code",
   "execution_count": 44,
   "id": "1580a967",
   "metadata": {},
   "outputs": [],
   "source": [
    "documents = [nltk.word_tokenize(sent) for sent in brand_reviews['reviewTokens']]"
   ]
  },
  {
   "cell_type": "code",
   "execution_count": 45,
   "id": "f03598a9",
   "metadata": {},
   "outputs": [
    {
     "data": {
      "text/plain": [
       "(53026442, 58145300)"
      ]
     },
     "execution_count": 45,
     "metadata": {},
     "output_type": "execute_result"
    }
   ],
   "source": [
    "wv_model = Word2Vec(documents, window=10, min_count=5, workers=10)\n",
    "wv_model.train(documents, total_examples=len(documents),epochs=10)"
   ]
  },
  {
   "cell_type": "code",
   "execution_count": 46,
   "id": "0eaa1b2d",
   "metadata": {},
   "outputs": [],
   "source": [
    "wv_model.save(\"w2vModel_brand_reviews.model\")"
   ]
  },
  {
   "cell_type": "code",
   "execution_count": 47,
   "id": "8d4688a2",
   "metadata": {},
   "outputs": [],
   "source": [
    "word_vectors= Word2Vec.load(\"w2vModel_brand_reviews.model\").wv"
   ]
  },
  {
   "cell_type": "code",
   "execution_count": 48,
   "id": "82f0f102",
   "metadata": {},
   "outputs": [
    {
     "data": {
      "text/plain": [
       "[('decent', 0.7863881587982178),\n",
       " ('great', 0.7453351616859436),\n",
       " ('excel', 0.6783779263496399),\n",
       " ('nice', 0.5760012865066528),\n",
       " ('awesom', 0.5373095870018005),\n",
       " ('terrif', 0.5282060503959656),\n",
       " ('fantast', 0.5134875178337097),\n",
       " ('ok', 0.5109250545501709),\n",
       " ('okay', 0.5011830925941467),\n",
       " ('outstand', 0.5004854202270508)]"
      ]
     },
     "execution_count": 48,
     "metadata": {},
     "output_type": "execute_result"
    }
   ],
   "source": [
    "w1 = \"good\"\n",
    "wv_model.wv.most_similar(positive=w1)"
   ]
  },
  {
   "cell_type": "markdown",
   "id": "6d0eb58a",
   "metadata": {},
   "source": [
    "#### K Means Clustering with Word2Vec"
   ]
  },
  {
   "cell_type": "code",
   "execution_count": 51,
   "id": "0f77ce03",
   "metadata": {},
   "outputs": [],
   "source": [
    "model_kmeans=KMeans(n_clusters=2, max_iter=10000, random_state=True, n_init=50).fit(X=word_vectors.vectors.astype('double'))"
   ]
  },
  {
   "cell_type": "code",
   "execution_count": 52,
   "id": "4a74860c",
   "metadata": {},
   "outputs": [
    {
     "data": {
      "text/plain": [
       "[('justo', 0.8239935040473938),\n",
       " ('esperaba', 0.8210289478302002),\n",
       " ('dinero', 0.8148132562637329),\n",
       " ('bajo', 0.7983721494674683),\n",
       " ('mismo', 0.7981988787651062),\n",
       " ('medio', 0.7945559024810791),\n",
       " ('entrega', 0.791122317314148),\n",
       " ('cumpl', 0.7910991907119751),\n",
       " ('instalar', 0.7898241877555847),\n",
       " ('cosa', 0.788453221321106),\n",
       " ('momento', 0.7874630689620972),\n",
       " ('dia', 0.7862640619277954),\n",
       " ('comprado', 0.7848004698753357),\n",
       " ('aun', 0.7843344211578369),\n",
       " ('cumpli', 0.7841208577156067),\n",
       " ('trae', 0.7836933732032776),\n",
       " ('computadora', 0.7832279205322266),\n",
       " ('mucha', 0.7819949984550476),\n",
       " ('mapa', 0.7808349132537842),\n",
       " ('teclado', 0.7807285189628601),\n",
       " ('necesidad', 0.7806126475334167),\n",
       " ('crippen', 0.7771453261375427),\n",
       " ('instalaci', 0.7754659056663513),\n",
       " ('relaci', 0.7742890119552612),\n",
       " ('vez', 0.7729901671409607),\n",
       " ('estar', 0.7727069854736328),\n",
       " ('queda', 0.7726653218269348),\n",
       " ('poco', 0.7726359367370605),\n",
       " ('espero', 0.7726022601127625),\n",
       " ('sonido', 0.7701442241668701),\n",
       " ('ahora', 0.7701095342636108),\n",
       " ('toda', 0.7689223885536194),\n",
       " ('hacer', 0.7636523246765137),\n",
       " ('articulo', 0.7626515030860901),\n",
       " ('une', 0.761860728263855),\n",
       " ('mese', 0.7606083154678345),\n",
       " ('capacidad', 0.7588592171669006),\n",
       " ('tambi', 0.7586562633514404),\n",
       " ('facilidad', 0.7582369446754456),\n",
       " ('basura', 0.7576143741607666),\n",
       " ('rendimiento', 0.7571075558662415),\n",
       " ('ni', 0.7544696927070618),\n",
       " ('adem', 0.7523894309997559),\n",
       " ('aunqu', 0.7519444823265076),\n",
       " ('espacio', 0.7506651282310486),\n",
       " ('costoso', 0.7484315037727356),\n",
       " ('fue', 0.7483927011489868),\n",
       " ('servicio', 0.7483492493629456),\n",
       " ('utilizar', 0.747043788433075),\n",
       " ('tuve', 0.7465476393699646)]"
      ]
     },
     "execution_count": 52,
     "metadata": {},
     "output_type": "execute_result"
    }
   ],
   "source": [
    "word_vectors.similar_by_vector(model_kmeans.cluster_centers_[0], topn=50,restrict_vocab=None)"
   ]
  },
  {
   "cell_type": "code",
   "execution_count": 53,
   "id": "0aa7b1d1",
   "metadata": {},
   "outputs": [],
   "source": [
    "positive_cluster_index = 1   #defining clusters\n",
    "positive_cluster_center = model_kmeans.cluster_centers_[positive_cluster_index]\n",
    "negative_cluster_center = model_kmeans.cluster_centers_[1-positive_cluster_index]"
   ]
  },
  {
   "cell_type": "code",
   "execution_count": 54,
   "id": "790e088d",
   "metadata": {},
   "outputs": [],
   "source": [
    "words = pd.DataFrame(word_vectors.vocab.keys())\n",
    "words.columns = ['words']\n",
    "words['vectors'] = words.words.apply(lambda x: word_vectors[f'{x}'])\n",
    "words['cluster'] = words.vectors.apply(lambda x: model_kmeans.predict([np.array(x)]))\n",
    "words.cluster = words.cluster.apply(lambda x: x[0])\n",
    "words['cluster_value'] = [1 if i==positive_cluster_index else -1 for i in words.cluster]\n",
    "words['closeness_score'] = words.apply(lambda x: 1/(model_kmeans.transform([x.vectors]).min()), axis=1)\n",
    "words['sentiment_coeff'] = words.closeness_score * words.cluster_value"
   ]
  },
  {
   "cell_type": "code",
   "execution_count": 55,
   "id": "4dd78ff3",
   "metadata": {},
   "outputs": [
    {
     "data": {
      "text/html": [
       "<div>\n",
       "<style scoped>\n",
       "    .dataframe tbody tr th:only-of-type {\n",
       "        vertical-align: middle;\n",
       "    }\n",
       "\n",
       "    .dataframe tbody tr th {\n",
       "        vertical-align: top;\n",
       "    }\n",
       "\n",
       "    .dataframe thead th {\n",
       "        text-align: right;\n",
       "    }\n",
       "</style>\n",
       "<table border=\"1\" class=\"dataframe\">\n",
       "  <thead>\n",
       "    <tr style=\"text-align: right;\">\n",
       "      <th></th>\n",
       "      <th>words</th>\n",
       "      <th>vectors</th>\n",
       "      <th>cluster</th>\n",
       "      <th>cluster_value</th>\n",
       "      <th>closeness_score</th>\n",
       "      <th>sentiment_coeff</th>\n",
       "    </tr>\n",
       "  </thead>\n",
       "  <tbody>\n",
       "    <tr>\n",
       "      <th>0</th>\n",
       "      <td>great</td>\n",
       "      <td>[1.1501452, 1.661074, -1.5643018, -2.0496254, ...</td>\n",
       "      <td>0</td>\n",
       "      <td>-1</td>\n",
       "      <td>0.064705</td>\n",
       "      <td>-0.064705</td>\n",
       "    </tr>\n",
       "    <tr>\n",
       "      <th>1</th>\n",
       "      <td>work</td>\n",
       "      <td>[-0.16120513, -1.8426865, -0.4980783, 1.542036...</td>\n",
       "      <td>0</td>\n",
       "      <td>-1</td>\n",
       "      <td>0.063665</td>\n",
       "      <td>-0.063665</td>\n",
       "    </tr>\n",
       "    <tr>\n",
       "      <th>2</th>\n",
       "      <td>lose</td>\n",
       "      <td>[-0.5732133, -0.82135546, 1.5684389, -1.815141...</td>\n",
       "      <td>1</td>\n",
       "      <td>1</td>\n",
       "      <td>0.059529</td>\n",
       "      <td>0.059529</td>\n",
       "    </tr>\n",
       "    <tr>\n",
       "      <th>3</th>\n",
       "      <td>connect</td>\n",
       "      <td>[-2.6905372, 1.1629049, -0.7213434, 2.2820919,...</td>\n",
       "      <td>0</td>\n",
       "      <td>-1</td>\n",
       "      <td>0.048562</td>\n",
       "      <td>-0.048562</td>\n",
       "    </tr>\n",
       "    <tr>\n",
       "      <th>4</th>\n",
       "      <td>constantli</td>\n",
       "      <td>[0.46249694, 1.0807141, -0.08913288, -3.016909...</td>\n",
       "      <td>0</td>\n",
       "      <td>-1</td>\n",
       "      <td>0.067206</td>\n",
       "      <td>-0.067206</td>\n",
       "    </tr>\n",
       "    <tr>\n",
       "      <th>5</th>\n",
       "      <td>startup</td>\n",
       "      <td>[-0.2081313, 1.6105258, 2.2592063, -0.90023136...</td>\n",
       "      <td>0</td>\n",
       "      <td>-1</td>\n",
       "      <td>0.077211</td>\n",
       "      <td>-0.077211</td>\n",
       "    </tr>\n",
       "    <tr>\n",
       "      <th>6</th>\n",
       "      <td>frequent</td>\n",
       "      <td>[-0.059866976, -0.3078387, 0.012063537, -2.493...</td>\n",
       "      <td>0</td>\n",
       "      <td>-1</td>\n",
       "      <td>0.067844</td>\n",
       "      <td>-0.067844</td>\n",
       "    </tr>\n",
       "    <tr>\n",
       "      <th>7</th>\n",
       "      <td>problem</td>\n",
       "      <td>[-1.1121883, -0.9754747, 1.5763533, -1.2258955...</td>\n",
       "      <td>0</td>\n",
       "      <td>-1</td>\n",
       "      <td>0.058447</td>\n",
       "      <td>-0.058447</td>\n",
       "    </tr>\n",
       "    <tr>\n",
       "      <th>8</th>\n",
       "      <td>softwar</td>\n",
       "      <td>[1.1837375, -1.7276136, -2.038646, -0.05674517...</td>\n",
       "      <td>0</td>\n",
       "      <td>-1</td>\n",
       "      <td>0.045814</td>\n",
       "      <td>-0.045814</td>\n",
       "    </tr>\n",
       "    <tr>\n",
       "      <th>9</th>\n",
       "      <td>creat</td>\n",
       "      <td>[-2.624349, -1.245148, -0.21807899, 0.6985172,...</td>\n",
       "      <td>0</td>\n",
       "      <td>-1</td>\n",
       "      <td>0.068409</td>\n",
       "      <td>-0.068409</td>\n",
       "    </tr>\n",
       "  </tbody>\n",
       "</table>\n",
       "</div>"
      ],
      "text/plain": [
       "        words                                            vectors  cluster  \\\n",
       "0       great  [1.1501452, 1.661074, -1.5643018, -2.0496254, ...        0   \n",
       "1        work  [-0.16120513, -1.8426865, -0.4980783, 1.542036...        0   \n",
       "2        lose  [-0.5732133, -0.82135546, 1.5684389, -1.815141...        1   \n",
       "3     connect  [-2.6905372, 1.1629049, -0.7213434, 2.2820919,...        0   \n",
       "4  constantli  [0.46249694, 1.0807141, -0.08913288, -3.016909...        0   \n",
       "5     startup  [-0.2081313, 1.6105258, 2.2592063, -0.90023136...        0   \n",
       "6    frequent  [-0.059866976, -0.3078387, 0.012063537, -2.493...        0   \n",
       "7     problem  [-1.1121883, -0.9754747, 1.5763533, -1.2258955...        0   \n",
       "8     softwar  [1.1837375, -1.7276136, -2.038646, -0.05674517...        0   \n",
       "9       creat  [-2.624349, -1.245148, -0.21807899, 0.6985172,...        0   \n",
       "\n",
       "   cluster_value  closeness_score  sentiment_coeff  \n",
       "0             -1         0.064705        -0.064705  \n",
       "1             -1         0.063665        -0.063665  \n",
       "2              1         0.059529         0.059529  \n",
       "3             -1         0.048562        -0.048562  \n",
       "4             -1         0.067206        -0.067206  \n",
       "5             -1         0.077211        -0.077211  \n",
       "6             -1         0.067844        -0.067844  \n",
       "7             -1         0.058447        -0.058447  \n",
       "8             -1         0.045814        -0.045814  \n",
       "9             -1         0.068409        -0.068409  "
      ]
     },
     "execution_count": 55,
     "metadata": {},
     "output_type": "execute_result"
    }
   ],
   "source": [
    "words.head(10)"
   ]
  },
  {
   "cell_type": "code",
   "execution_count": 56,
   "id": "96b889d1",
   "metadata": {},
   "outputs": [],
   "source": [
    "words[['words', 'sentiment_coeff']].to_csv('brand_reviews_sentiment_dictionary.csv', index=False) #saving sentiment dictionary"
   ]
  },
  {
   "cell_type": "code",
   "execution_count": 66,
   "id": "6a2f3d59",
   "metadata": {},
   "outputs": [],
   "source": [
    "def replace_sentiment_words(word, sentiment_dict):\n",
    "    '''\n",
    "    Return\n",
    "    replacing each word with its associated sentiment score from sentiment dict\n",
    "\n",
    "    Args:\n",
    "    word: single token text\n",
    "    sentiment_dict: Dictionary created with Word2Vec Model with K Means Clustering\n",
    "    '''\n",
    "    try:\n",
    "        out = sentiment_dict[word]\n",
    "    except KeyError:\n",
    "        out = 0\n",
    "    return out"
   ]
  },
  {
   "cell_type": "code",
   "execution_count": 67,
   "id": "67e1dcd3",
   "metadata": {},
   "outputs": [],
   "source": [
    "sentiment_map = pd.read_csv('brand_reviews_sentiment_dictionary.csv')\n",
    "sentiment_dict = dict(zip(sentiment_map.words.values, sentiment_map.sentiment_coeff.values))"
   ]
  },
  {
   "cell_type": "code",
   "execution_count": 103,
   "id": "c2ddc25f",
   "metadata": {},
   "outputs": [],
   "source": [
    "brand_reviews['replaced_closeness_scores'] = brand_reviews.reviewTokens.apply(lambda x: list(map(lambda y: replace_sentiment_words(y, sentiment_dict), x.split())))\n",
    "brand_reviews['avg_closeness_score'] = brand_reviews.apply(lambda x: np.average(np.array(x.loc['replaced_closeness_scores'])), axis=1)"
   ]
  },
  {
   "cell_type": "code",
   "execution_count": 105,
   "metadata": {},
   "outputs": [],
   "source": [
    "brand_reviews.avg_closeness_score = brand_reviews.avg_closeness_score.transform(lambda x: x.fillna(x.mean()))"
   ]
  },
  {
   "cell_type": "code",
   "execution_count": 106,
   "metadata": {
    "scrolled": true
   },
   "outputs": [
    {
     "data": {
      "text/plain": [
       "index                        0.000000\n",
       "Unnamed: 0                   0.000000\n",
       "reviewText                   0.000402\n",
       "helpful_no                   0.000000\n",
       "helpful_yes                  0.000000\n",
       "target                       0.000000\n",
       "price_cleaned                0.000000\n",
       "title_com                    0.000000\n",
       "alltext_com                  0.000000\n",
       "reviewTokens                 0.000000\n",
       "reviews_vader_comp           0.000000\n",
       "replaced_closeness_scores    0.000000\n",
       "avg_closeness_score          0.000000\n",
       "dtype: float64"
      ]
     },
     "execution_count": 106,
     "metadata": {},
     "output_type": "execute_result"
    }
   ],
   "source": [
    "brand_reviews.isna().sum()/len(brand_reviews)"
   ]
  },
  {
   "cell_type": "code",
   "execution_count": null,
   "metadata": {},
   "outputs": [],
   "source": [
    "from sklearn.preprocessing import OneHotEncoder\n",
    "enc=OneHotEncoder()\n",
    "  \n",
    "#Passing encoded columns\n",
    "'''\n",
    "NOTE: we have converted the enc.fit_transform() method to array because the fit_transform method \n",
    "of OneHotEncoder returns SpiPy sparse matrix this enables us to save space when we \n",
    "have huge  number of categorical variables\n",
    "'''\n",
    "enc_data=pd.DataFrame(enc.fit_transform(brand_reviews['brand']).toarray())\n",
    "  \n",
    "#Merge with main\n",
    "brand_reviews_cleaned=brand_reviews.join(enc_data)"
   ]
  },
  {
   "cell_type": "code",
   "execution_count": null,
   "metadata": {},
   "outputs": [],
   "source": [
    "# ##Potential PCA for brand column\n",
    "\n",
    "# ## example we read only the response AND the categorical variable of interest  \n",
    "# df_to_collapse = brand_reviews_pca[['target', 'brand']]\n",
    "# df_to_collapse = pd.get_dummies(df_to_collapse, drop_first = True)\n",
    "# df_to_collapse.head(10)\n",
    "# # next import the random forest\n",
    "# from sklearn.ensemble import RandomForestClassifier\n",
    "\n",
    "# ## we fit the random forest\n",
    "# rf = RandomForestClassifier()\n",
    "# rf.fit(df_to_collapse.drop('brand', axis = 1), df_to_collapse['brand'])\n",
    "\n",
    "\n",
    "# feature_importances = pd.DataFrame({'Variable' :df_to_collapse.drop('brand', axis = 1).columns, 'Importance': rf.feature_importances_})\n",
    "# feature_importances.set_index('Variable', inplace = True)\n",
    "# feature_importances = feature_importances.sort_values(by = 'Importance', ascending = False)\n",
    "# feature_importances.head(20)"
   ]
  },
  {
   "cell_type": "code",
   "execution_count": 107,
   "metadata": {},
   "outputs": [],
   "source": [
    "brand_reviews_cleaned = brand_reviews.drop([\"index\", \"Unnamed: 0\", \"reviewText\", \"reviewTokens\", \"replaced_closeness_scores\", \"brand\"], axis = 1)\n",
    "brand_reviews_cleaned.to_csv(\"modeling_dat.csv\")"
   ]
  },
  {
   "cell_type": "code",
   "execution_count": 108,
   "metadata": {},
   "outputs": [
    {
     "data": {
      "text/plain": [
       "helpful_no             0.0\n",
       "helpful_yes            0.0\n",
       "target                 0.0\n",
       "price_cleaned          0.0\n",
       "title_com              0.0\n",
       "alltext_com            0.0\n",
       "reviews_vader_comp     0.0\n",
       "avg_closeness_score    0.0\n",
       "dtype: float64"
      ]
     },
     "execution_count": 108,
     "metadata": {},
     "output_type": "execute_result"
    }
   ],
   "source": [
    "brand_reviews_cleaned.isna().sum()/len(brand_reviews_cleaned)"
   ]
  },
  {
   "cell_type": "code",
   "execution_count": 109,
   "metadata": {},
   "outputs": [],
   "source": [
    "X_reddit = brand_reviews_cleaned.drop(['target'], axis = 1)\n",
    "y_reddit = brand_reviews_cleaned['target']\n",
    "X_no_reddit = brand_reviews_cleaned.drop(['target','title_com', 'alltext_com'], axis = 1)\n",
    "y_no_reddit = brand_reviews_cleaned['target']"
   ]
  },
  {
   "cell_type": "markdown",
   "metadata": {},
   "source": [
    "#### keep 30% data for testing and 70% for training and cv"
   ]
  },
  {
   "cell_type": "code",
   "execution_count": 112,
   "metadata": {},
   "outputs": [],
   "source": [
    "from sklearn.model_selection import train_test_split\n",
    "X_train_reddit_imbal, X_test_reddit, y_train_reddit_imbal, y_test_reddit = train_test_split(X_reddit, y_reddit, test_size=0.3, random_state=0)\n",
    "X_train_no_reddit_imbal, X_test_no_reddit, y_train_no_reddit_imbal, y_test_no_reddit = train_test_split(X_no_reddit, y_no_reddit, test_size=0.3, random_state=0)"
   ]
  },
  {
   "cell_type": "code",
   "execution_count": null,
   "metadata": {},
   "outputs": [],
   "source": [
    "import imblearn\n",
    "from imblearn.under_sampling import RandomUnderSampler\n",
    "\n",
    "## make an instance\n",
    "US = RandomUnderSampler(sampling_strategy=1, random_sta)\n",
    "## create a new training data\n",
    "X_train_reddit,y_train_reddit = US.fit_resample(X_train_reddit_imbal, y_train_reddit_imbal)\n",
    "X_train_no_reddit, y_train_no_reddit = US.fit_resample(X_train_no_reddit_imbal,y_train_no_reddit_imbal)\n"
   ]
  },
  {
   "cell_type": "markdown",
   "metadata": {},
   "source": [
    "## Random Forest"
   ]
  },
  {
   "cell_type": "markdown",
   "metadata": {},
   "source": [
    "### Cross Validation"
   ]
  },
  {
   "cell_type": "code",
   "execution_count": 113,
   "metadata": {},
   "outputs": [],
   "source": [
    "# import the algorithm class from the sklearn library\n",
    "\n",
    "from sklearn.ensemble import RandomForestClassifier\n",
    "classifier = RandomForestClassifier(n_estimators=30, random_state=0)"
   ]
  },
  {
   "cell_type": "markdown",
   "metadata": {},
   "source": [
    "The cross_val_score returns the accuracy for all the folds. Values for 4 parameters are required to be passed to the cross_val_score class. The first parameter is estimator which basically specifies the algorithm that you want to use for cross validation. The second and third parameters, X and y, contain the X_train and y_train data i.e. features and labels. Finally the number of folds is passed to the cv parameter."
   ]
  },
  {
   "cell_type": "code",
   "execution_count": 114,
   "metadata": {},
   "outputs": [],
   "source": [
    "from sklearn.model_selection import cross_val_score\n",
    "all_accuracies_reddit = cross_val_score(estimator=classifier, X=X_train_reddit, y=y_train_reddit, cv=5)\n",
    "all_accuracies_no_reddit = cross_val_score(estimator=classifier, X=X_train_no_reddit, y=y_train_no_reddit, cv=5)"
   ]
  },
  {
   "cell_type": "code",
   "execution_count": 115,
   "metadata": {
    "scrolled": true
   },
   "outputs": [
    {
     "name": "stdout",
     "output_type": "stream",
     "text": [
      "[0.78323224 0.78078713 0.78398458 0.78577138 0.78331609]\n"
     ]
    }
   ],
   "source": [
    "print(all_accuracies_reddit)"
   ]
  },
  {
   "cell_type": "code",
   "execution_count": 116,
   "metadata": {},
   "outputs": [
    {
     "name": "stdout",
     "output_type": "stream",
     "text": [
      "0.783418284817712\n"
     ]
    }
   ],
   "source": [
    "print(all_accuracies_reddit.mean())"
   ]
  },
  {
   "cell_type": "code",
   "execution_count": 117,
   "metadata": {},
   "outputs": [
    {
     "name": "stdout",
     "output_type": "stream",
     "text": [
      "0.001601609429457628\n"
     ]
    }
   ],
   "source": [
    "print(all_accuracies_reddit.std())"
   ]
  },
  {
   "cell_type": "code",
   "execution_count": 118,
   "metadata": {
    "scrolled": true
   },
   "outputs": [
    {
     "name": "stdout",
     "output_type": "stream",
     "text": [
      "[0.77114779 0.77157098 0.76959609 0.76889077 0.76925609]\n"
     ]
    }
   ],
   "source": [
    "print(all_accuracies_no_reddit)"
   ]
  },
  {
   "cell_type": "code",
   "execution_count": 119,
   "metadata": {},
   "outputs": [
    {
     "name": "stdout",
     "output_type": "stream",
     "text": [
      "0.7700923426537785\n"
     ]
    }
   ],
   "source": [
    "print(all_accuracies_no_reddit.mean())"
   ]
  },
  {
   "cell_type": "code",
   "execution_count": 120,
   "metadata": {},
   "outputs": [
    {
     "name": "stdout",
     "output_type": "stream",
     "text": [
      "0.0010667421192732487\n"
     ]
    }
   ],
   "source": [
    "print(all_accuracies_no_reddit.std())"
   ]
  },
  {
   "cell_type": "markdown",
   "metadata": {},
   "source": [
    "### Grid Search"
   ]
  },
  {
   "cell_type": "code",
   "execution_count": 121,
   "metadata": {},
   "outputs": [],
   "source": [
    "from sklearn.model_selection import GridSearchCV"
   ]
  },
  {
   "cell_type": "markdown",
   "metadata": {},
   "source": [
    "Create a dictionary of all the parameters and their corresponding set of values that you want to test for best performance. The name of the dictionary items corresponds to the parameter name and the value corresponds to the list of values for the parameter."
   ]
  },
  {
   "cell_type": "code",
   "execution_count": 124,
   "metadata": {},
   "outputs": [],
   "source": [
    "grid_param = {\n",
    "    'n_estimators': [10, 30, 50, 80, 100],\n",
    "    'max_depth' : [3, 5, 7, 9],\n",
    "    'criterion': ['gini', 'entropy'],\n",
    "    'max_features' : ['sqrt', 'log2', None]\n",
    "}"
   ]
  },
  {
   "cell_type": "code",
   "execution_count": 127,
   "metadata": {},
   "outputs": [],
   "source": [
    "gd_sr_reddit = GridSearchCV(estimator=classifier,\n",
    "                     param_grid=grid_param,\n",
    "                     scoring='accuracy',\n",
    "                     cv=5,\n",
    "                     n_jobs=-1)\n",
    "gd_sr_no_reddit = GridSearchCV(estimator=classifier,\n",
    "                     param_grid=grid_param,\n",
    "                     scoring='accuracy',\n",
    "                     cv=5,\n",
    "                     n_jobs=-1)"
   ]
  },
  {
   "cell_type": "markdown",
   "metadata": {},
   "source": [
    "Call the fit method of the class and pass it the training and test set"
   ]
  },
  {
   "cell_type": "code",
   "execution_count": 128,
   "metadata": {
    "scrolled": true
   },
   "outputs": [
    {
     "data": {
      "text/plain": [
       "GridSearchCV(cv=5,\n",
       "             estimator=RandomForestClassifier(n_estimators=30, random_state=0),\n",
       "             n_jobs=-1,\n",
       "             param_grid={'criterion': ['gini', 'entropy'],\n",
       "                         'max_depth': [3, 5, 7, 9],\n",
       "                         'max_features': ['sqrt', 'log2', None],\n",
       "                         'n_estimators': [10, 30, 50, 80, 100]},\n",
       "             scoring='accuracy')"
      ]
     },
     "execution_count": 128,
     "metadata": {},
     "output_type": "execute_result"
    }
   ],
   "source": [
    "gd_sr_reddit.fit(X_train_reddit, y=y_train_reddit)\n",
    "gd_sr_no_reddit.fit(X_train_no_reddit, y=y_train_no_reddit)\n"
   ]
  },
  {
   "cell_type": "markdown",
   "metadata": {},
   "source": [
    "Check the parameters that return the highest accuracy"
   ]
  },
  {
   "cell_type": "code",
   "execution_count": 130,
   "metadata": {},
   "outputs": [
    {
     "name": "stdout",
     "output_type": "stream",
     "text": [
      "{'criterion': 'gini', 'max_depth': 9, 'max_features': 'sqrt', 'n_estimators': 100}\n",
      "{'criterion': 'gini', 'max_depth': 9, 'max_features': None, 'n_estimators': 50}\n"
     ]
    }
   ],
   "source": [
    "best_parameters_reddit = gd_sr_reddit.best_params_\n",
    "best_parameters_no_reddit = gd_sr_no_reddit.best_params_\n",
    "print(best_parameters_no_reddit)\n",
    "print(best_parameters_reddit)"
   ]
  },
  {
   "cell_type": "markdown",
   "metadata": {},
   "source": [
    "Find the accuracy obtained using the best parameters"
   ]
  },
  {
   "cell_type": "code",
   "execution_count": 131,
   "metadata": {
    "scrolled": true
   },
   "outputs": [
    {
     "name": "stdout",
     "output_type": "stream",
     "text": [
      "0.7935561480501759\n"
     ]
    }
   ],
   "source": [
    "best_result = gd_sr_reddit.best_score_\n",
    "print(best_result)"
   ]
  },
  {
   "cell_type": "code",
   "execution_count": 132,
   "metadata": {},
   "outputs": [
    {
     "name": "stdout",
     "output_type": "stream",
     "text": [
      "0.7921361018630839\n"
     ]
    }
   ],
   "source": [
    "best_result = gd_sr_no_reddit.best_score_\n",
    "print(best_result)"
   ]
  },
  {
   "cell_type": "markdown",
   "metadata": {},
   "source": [
    "### Generate final performance values for testing data "
   ]
  },
  {
   "cell_type": "code",
   "execution_count": 133,
   "metadata": {},
   "outputs": [
    {
     "name": "stdout",
     "output_type": "stream",
     "text": [
      "0.7908191253593136\n",
      "[[ 3368  7867]\n",
      " [ 1666 32672]]\n",
      "              precision    recall  f1-score   support\n",
      "\n",
      "           0       0.67      0.30      0.41     11235\n",
      "           1       0.81      0.95      0.87     34338\n",
      "\n",
      "    accuracy                           0.79     45573\n",
      "   macro avg       0.74      0.63      0.64     45573\n",
      "weighted avg       0.77      0.79      0.76     45573\n",
      "\n",
      "[0.0680808  0.22293467 0.08957805 0.03583309 0.03298422 0.49138044\n",
      " 0.05920873]\n"
     ]
    }
   ],
   "source": [
    "# load the required libraries\n",
    "from sklearn.metrics import accuracy_score, classification_report, confusion_matrix\n",
    "\n",
    "classifier_reddit = RandomForestClassifier(n_estimators=50, criterion='gini', max_depth= 9, max_features=None)\n",
    "\n",
    "classifier_reddit.fit(X_train_reddit, y_train_reddit)\n",
    "\n",
    "y_pred_reddit = classifier_reddit.predict(X_test_reddit)\n",
    "\n",
    "print(accuracy_score(y_test_reddit, y_pred_reddit))\n",
    "print(confusion_matrix(y_test_reddit, y_pred_reddit))  \n",
    "print(classification_report(y_test_reddit, y_pred_reddit)) \n",
    "print(classifier_reddit.feature_importances_)"
   ]
  },
  {
   "cell_type": "code",
   "execution_count": 134,
   "metadata": {
    "scrolled": true
   },
   "outputs": [
    {
     "name": "stdout",
     "output_type": "stream",
     "text": [
      "0.7888003861935795\n",
      "[[ 3219  8016]\n",
      " [ 1609 32729]]\n",
      "              precision    recall  f1-score   support\n",
      "\n",
      "           0       0.67      0.29      0.40     11235\n",
      "           1       0.80      0.95      0.87     34338\n",
      "\n",
      "    accuracy                           0.79     45573\n",
      "   macro avg       0.73      0.62      0.64     45573\n",
      "weighted avg       0.77      0.79      0.76     45573\n",
      "\n",
      "[0.08327573 0.23155368 0.09051155 0.53171371 0.06294533]\n"
     ]
    }
   ],
   "source": [
    "classifier_no_reddit = RandomForestClassifier(n_estimators=100, criterion='gini', max_depth= 9, max_features='sqrt')\n",
    "\n",
    "classifier_no_reddit.fit(X_train_no_reddit, y_train_no_reddit)\n",
    "\n",
    "y_pred_no_reddit = classifier_no_reddit.predict(X_test_no_reddit)\n",
    "\n",
    "\n",
    "print(accuracy_score(y_test_no_reddit, y_pred_no_reddit))\n",
    "print(confusion_matrix(y_test_no_reddit, y_pred_no_reddit))  \n",
    "print(classification_report(y_test_no_reddit, y_pred_no_reddit)) \n",
    "print(classifier_no_reddit.feature_importances_)"
   ]
  },
  {
   "cell_type": "markdown",
   "metadata": {},
   "source": [
    "## XGBoost"
   ]
  },
  {
   "cell_type": "code",
   "execution_count": 137,
   "metadata": {},
   "outputs": [],
   "source": [
    "estimator = XGBClassifier(\n",
    "    objective= 'binary:logistic',\n",
    "    nthread=4,\n",
    "    seed=42\n",
    ")\n",
    "\n",
    "parameters = {\n",
    "    'max_depth': range (3, 5, 7, 9),\n",
    "    'n_estimators': range(10, 30, 50, 80, 100),\n",
    "    'learning_rate': [0.1, 0.01, 0.05]\n",
    "}\n",
    "\n",
    "# parameters = {\n",
    "#     'max_depth': range (2, 10, 1),\n",
    "#     'n_estimators': range(60, 220, 40),\n",
    "#     'learning_rate': [0.1, 0.01, 0.05]\n",
    "# }"
   ]
  },
  {
   "cell_type": "code",
   "execution_count": 138,
   "metadata": {},
   "outputs": [],
   "source": [
    "gd_xg_reddit = GridSearchCV(\n",
    "                            estimator=estimator,\n",
    "                            param_grid=parameters,\n",
    "                            scoring = 'accuracy',\n",
    "                            cv=5,\n",
    "                            n_jobs=-1,\n",
    "                            verbose=True)\n",
    "\n",
    "\n",
    "gd_xg_no_reddit = GridSearchCV(\n",
    "                            estimator=estimator,\n",
    "                            param_grid=parameters,\n",
    "                            scoring = 'accuracy',\n",
    "                            cv=5,\n",
    "                            n_jobs=-1,\n",
    "                            verbose=True)"
   ]
  },
  {
   "cell_type": "code",
   "execution_count": 139,
   "metadata": {
    "scrolled": true
   },
   "outputs": [
    {
     "name": "stdout",
     "output_type": "stream",
     "text": [
      "Fitting 5 folds for each of 96 candidates, totalling 480 fits\n",
      "Fitting 5 folds for each of 96 candidates, totalling 480 fits\n"
     ]
    },
    {
     "data": {
      "text/plain": [
       "GridSearchCV(cv=5,\n",
       "             estimator=XGBClassifier(base_score=None, booster=None,\n",
       "                                     colsample_bylevel=None,\n",
       "                                     colsample_bynode=None,\n",
       "                                     colsample_bytree=None, gamma=None,\n",
       "                                     gpu_id=None, importance_type='gain',\n",
       "                                     interaction_constraints=None,\n",
       "                                     learning_rate=None, max_delta_step=None,\n",
       "                                     max_depth=None, min_child_weight=None,\n",
       "                                     missing=nan, monotone_constraints=None,\n",
       "                                     n_estimators=100, n_jobs=None, nthread=4,\n",
       "                                     num_parallel_tree=None, random_state=None,\n",
       "                                     reg_alpha=None, reg_lambda=None,\n",
       "                                     scale_pos_weight=None, seed=42,\n",
       "                                     subsample=None, tree_method=None,\n",
       "                                     validate_parameters=None, verbosity=None),\n",
       "             n_jobs=-1,\n",
       "             param_grid={'learning_rate': [0.1, 0.01, 0.05],\n",
       "                         'max_depth': range(2, 10),\n",
       "                         'n_estimators': range(60, 220, 40)},\n",
       "             scoring='accuracy', verbose=True)"
      ]
     },
     "execution_count": 139,
     "metadata": {},
     "output_type": "execute_result"
    }
   ],
   "source": [
    "gd_xg_reddit.fit(X_train_reddit, y=y_train_reddit)\n",
    "gd_xg_no_reddit.fit(X_train_no_reddit, y=y_train_no_reddit)\n"
   ]
  },
  {
   "cell_type": "markdown",
   "metadata": {},
   "source": [
    "Check the parameters that return the highest accuracy"
   ]
  },
  {
   "cell_type": "code",
   "execution_count": 140,
   "metadata": {},
   "outputs": [
    {
     "name": "stdout",
     "output_type": "stream",
     "text": [
      "{'learning_rate': 0.1, 'max_depth': 5, 'n_estimators': 180}\n",
      "{'learning_rate': 0.1, 'max_depth': 7, 'n_estimators': 180}\n"
     ]
    }
   ],
   "source": [
    "best_param_reddit = gd_xg_reddit.best_params_\n",
    "best_param_no_reddit = gd_xg_no_reddit.best_params_\n",
    "print(best_param_no_reddit)\n",
    "print(best_param_reddit)"
   ]
  },
  {
   "cell_type": "markdown",
   "metadata": {},
   "source": [
    "Find the accuracy obtained using the best parameters"
   ]
  },
  {
   "cell_type": "code",
   "execution_count": 141,
   "metadata": {
    "scrolled": true
   },
   "outputs": [
    {
     "name": "stdout",
     "output_type": "stream",
     "text": [
      "0.7998946694902033\n"
     ]
    }
   ],
   "source": [
    "best_result = gd_xg_reddit.best_score_\n",
    "print(best_result)"
   ]
  },
  {
   "cell_type": "code",
   "execution_count": 142,
   "metadata": {},
   "outputs": [
    {
     "name": "stdout",
     "output_type": "stream",
     "text": [
      "0.7948539536934469\n"
     ]
    }
   ],
   "source": [
    "best_result = gd_xg_no_reddit.best_score_\n",
    "print(best_result)"
   ]
  },
  {
   "cell_type": "markdown",
   "metadata": {},
   "source": [
    "### Generate final performance values for testing data "
   ]
  },
  {
   "cell_type": "code",
   "execution_count": 143,
   "metadata": {},
   "outputs": [
    {
     "name": "stdout",
     "output_type": "stream",
     "text": [
      "0.7976433414521756\n",
      "[[ 3770  7465]\n",
      " [ 1757 32581]]\n",
      "              precision    recall  f1-score   support\n",
      "\n",
      "           0       0.68      0.34      0.45     11235\n",
      "           1       0.81      0.95      0.88     34338\n",
      "\n",
      "    accuracy                           0.80     45573\n",
      "   macro avg       0.75      0.64      0.66     45573\n",
      "weighted avg       0.78      0.80      0.77     45573\n",
      "\n",
      "[0.12567742 0.28255975 0.07168891 0.07789218 0.08638462 0.30472115\n",
      " 0.0510759 ]\n"
     ]
    }
   ],
   "source": [
    "classifier_xg_reddit = XGBClassifier(\n",
    "    objective= 'binary:logistic', nthread=4,\n",
    "    learning_rate= 0.1, max_depth= 7, n_estimators= 180,\n",
    "    seed=42\n",
    ")\n",
    "\n",
    "classifier_xg_reddit.fit(X_train_reddit, y_train_reddit)\n",
    "\n",
    "y_pred_xg_reddit = classifier_xg_reddit.predict(X_test_reddit)\n",
    "\n",
    "print(accuracy_score(y_test_reddit, y_pred_xg_reddit))\n",
    "print(confusion_matrix(y_test_reddit, y_pred_xg_reddit))  \n",
    "print(classification_report(y_test_reddit, y_pred_xg_reddit)) \n",
    "print(classifier_xg_reddit.feature_importances_)"
   ]
  },
  {
   "cell_type": "code",
   "execution_count": 144,
   "metadata": {
    "scrolled": true
   },
   "outputs": [
    {
     "name": "stdout",
     "output_type": "stream",
     "text": [
      "0.7930353498782173\n",
      "[[ 3447  7788]\n",
      " [ 1644 32694]]\n",
      "              precision    recall  f1-score   support\n",
      "\n",
      "           0       0.68      0.31      0.42     11235\n",
      "           1       0.81      0.95      0.87     34338\n",
      "\n",
      "    accuracy                           0.79     45573\n",
      "   macro avg       0.74      0.63      0.65     45573\n",
      "weighted avg       0.78      0.79      0.76     45573\n",
      "\n",
      "[0.1326797  0.3287278  0.06466255 0.4316485  0.04228143]\n"
     ]
    }
   ],
   "source": [
    "classifier_xg_no_reddit = XGBClassifier(\n",
    "    objective= 'binary:logistic', nthread=4,\n",
    "    learning_rate= 0.1, max_depth= 5, n_estimators= 180,\n",
    "    seed=42\n",
    ")\n",
    "\n",
    "classifier_xg_no_reddit.fit(X_train_no_reddit, y_train_no_reddit)\n",
    "\n",
    "y_pred_xg_no_reddit = classifier_xg_no_reddit.predict(X_test_no_reddit)\n",
    "\n",
    "print(accuracy_score(y_test_no_reddit, y_pred_xg_no_reddit))\n",
    "print(confusion_matrix(y_test_no_reddit, y_pred_xg_no_reddit))  \n",
    "print(classification_report(y_test_no_reddit, y_pred_xg_no_reddit)) \n",
    "print(classifier_xg_no_reddit.feature_importances_)"
   ]
  },
  {
   "cell_type": "code",
   "execution_count": 147,
   "metadata": {},
   "outputs": [
    {
     "data": {
      "image/png": "[encoded data removed]",
      "text/plain": [
       "<Figure size 432x288 with 2 Axes>"
      ]
     },
     "metadata": {},
     "output_type": "display_data"
    }
   ],
   "source": [
    "import matplotlib.pyplot as plt\n",
    "from sklearn.metrics import ConfusionMatrixDisplay\n",
    "\n",
    "cm_rf_no_reddit = confusion_matrix(y_test_no_reddit, y_pred_no_reddit, labels=classifier_no_reddit.classes_)\n",
    "cm_rf_reddit = confusion_matrix(y_test_reddit, y_pred_reddit, labels=classifier_reddit.classes_)\n",
    "cm_xg_no_reddit = confusion_matrix(y_test_no_reddit, y_pred_xg_no_reddit, labels=classifier_xg_reddit.classes_)\n",
    "cm_xg_reddit = confusion_matrix(y_test_reddit, y_pred_xg_reddit, labels=classifier_xg_no_reddit.classes_)\n",
    "\n",
    "disp = ConfusionMatrixDisplay(confusion_matrix=cm_rf_no_reddit,\n",
    "                              display_labels=classifier_no_reddit.classes_)\n",
    "disp.plot()\n",
    "plt.grid(False)\n",
    "plt.show()"
   ]
  },
  {
   "cell_type": "code",
   "execution_count": 149,
   "metadata": {},
   "outputs": [
    {
     "data": {
      "image/png": "[encoded data removed]",
      "text/plain": [
       "<Figure size 432x288 with 2 Axes>"
      ]
     },
     "metadata": {},
     "output_type": "display_data"
    }
   ],
   "source": [
    "disp = ConfusionMatrixDisplay(confusion_matrix=cm_rf_reddit,\n",
    "                              display_labels=classifier_reddit.classes_)\n",
    "disp.plot()\n",
    "plt.grid(False)\n",
    "plt.show()"
   ]
  },
  {
   "cell_type": "code",
   "execution_count": null,
   "metadata": {},
   "outputs": [],
   "source": [
    "disp = ConfusionMatrixDisplay(confusion_matrix=cm,\n",
    "                              display_labels=classifier_reddit.classes_)\n",
    "disp.plot()\n",
    "plt.grid(False)\n",
    "plt.show()"
   ]
  },
  {
   "cell_type": "code",
   "execution_count": null,
   "metadata": {},
   "outputs": [],
   "source": [
    "disp = ConfusionMatrixDisplay(confusion_matrix=cm,\n",
    "                              display_labels=clf.classes_)\n",
    "disp.plot()\n",
    "plt.grid(False)\n",
    "plt.show()"
   ]
  },
  {
   "cell_type": "code",
   "execution_count": 161,
   "metadata": {},
   "outputs": [
    {
     "data": {
      "image/png": "[encoded data removed]",
      "text/plain": [
       "<Figure size 1440x1296 with 1 Axes>"
      ]
     },
     "metadata": {},
     "output_type": "display_data"
    }
   ],
   "source": [
    "# roc curve and auc\n",
    "\n",
    "# generate a no skill prediction (majority class)\n",
    "ns_probs = [0 for _ in range(len(brand_reviews_cleaned['target']))]\n",
    "\n",
    "\n",
    "\n",
    "# calculate roc curves\n",
    "a1, b1, thresh = roc_curve(y_test_no_reddit, y_pred_no_reddit)\n",
    "a2, b2, thresh = roc_curve(y_test_reddit, y_pred_reddit)\n",
    "a3, b3, thresh = roc_curve(y_test_no_reddit, y_pred_xg_no_reddit)\n",
    "a4, b4, thresh = roc_curve(y_test_reddit, y_pred_xg_reddit)\n",
    "ns_fpr, ns_tpr, thresh = roc_curve(brand_reviews_cleaned['target'], ns_probs)\n",
    "\n",
    "plt.figure(figsize = (20, 18))\n",
    "\n",
    "# plot the roc curve for the model\n",
    "plt.plot(a1, b1,marker='v', lw=2, color='r', label='Rf_No Reddit')\n",
    "plt.plot(a2, b2, marker='*', lw=2, color='b', label='Rf_Reddit')\n",
    "plt.plot(a3, b3,marker='o', lw=2, color='pink',label='Xg_No Reddit')\n",
    "plt.plot(a4, b4, marker='.', lw=2, color='y', label='Xg_No Reddit')\n",
    "plt.plot(ns_fpr, ns_tpr, linestyle='-', lw=2, color='green', label='Random Chances')\n",
    "\n",
    "\n",
    "# axis labels\n",
    "plt.xlabel('False Positive Rate', fontsize = 15)\n",
    "plt.ylabel('True Positive Rate', fontsize = 15)\n",
    "# show the legend\n",
    "plt.legend(prop={'size': 15})\n",
    "plt.title(\"ROC Curve for Random Forest and XGBoost with 2 datasets\",fontsize = 20)\n",
    "# show the plot\n",
    "plt.show()"
   ]
  },
  {
   "cell_type": "code",
   "execution_count": null,
   "metadata": {},
   "outputs": [],
   "source": [
    "fpr, tpr, thresh = roc_curve(y_train, prob_train)\n",
    "plt.figure(figsize = (8,6))\n",
    "plt.plot(fpr, tpr, label= f'ROC curve (area = {auc(fpr, tpr): 0.2f}')\n",
    "plt.plot([0, 1], [0, 1], linestyle='--', lw=2, color='r', label='Random guess')\n",
    "plt.title('ROC Curve Training Data', fontsize = 40)\n",
    "plt.xlabel('False Positive Rate')\n",
    "plt.ylabel('True Positive Rate (Recall)')\n",
    "plt.grid()\n",
    "plt.legend()\n",
    "plt.show()"
   ]
  }
 ],
 "metadata": {
  "kernelspec": {
   "display_name": "Python 3",
   "language": "python",
   "name": "python3"
  },
  "language_info": {
   "codemirror_mode": {
    "name": "ipython",
    "version": 3
   },
   "file_extension": ".py",
   "mimetype": "text/x-python",
   "name": "python",
   "nbconvert_exporter": "python",
   "pygments_lexer": "ipython3",
   "version": "3.7.3"
  }
 },
 "nbformat": 4,
 "nbformat_minor": 4
}
